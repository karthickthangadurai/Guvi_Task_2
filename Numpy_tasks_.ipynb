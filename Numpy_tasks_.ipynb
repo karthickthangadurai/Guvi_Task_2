{
  "cells": [
    {
      "cell_type": "markdown",
      "metadata": {
        "id": "view-in-github",
        "colab_type": "text"
      },
      "source": [
        "<a href=\"https://colab.research.google.com/github/karthickthangadurai/Guvi_Task_2/blob/main/Numpy_tasks_.ipynb\" target=\"_parent\"><img src=\"https://colab.research.google.com/assets/colab-badge.svg\" alt=\"Open In Colab\"/></a>"
      ]
    },
    {
      "cell_type": "markdown",
      "metadata": {
        "id": "2BqgEYK9RUGv"
      },
      "source": [
        "# Numpy\n",
        "\n"
      ]
    },
    {
      "cell_type": "markdown",
      "metadata": {
        "id": "oKfjf9C2RUG1"
      },
      "source": [
        "#### 1. Import the numpy package under the name `np` (★☆☆) \n",
        "(**hint**: import … as …)"
      ]
    },
    {
      "cell_type": "code",
      "execution_count": 1,
      "metadata": {
        "collapsed": true,
        "id": "a6kn4MlFRUG2"
      },
      "outputs": [],
      "source": [
        "import numpy as np"
      ]
    },
    {
      "cell_type": "markdown",
      "metadata": {
        "id": "5PhppRjzRUG3"
      },
      "source": [
        "#### 2. Print the numpy version and the configuration (★☆☆) \n",
        "(**hint**: np.\\_\\_version\\_\\_, np.show\\_config)"
      ]
    },
    {
      "cell_type": "code",
      "execution_count": 2,
      "metadata": {
        "colab": {
          "base_uri": "https://localhost:8080/"
        },
        "id": "_5HEn62_RUG4",
        "outputId": "e24eb640-d494-4cd7-aaeb-1239745a7083"
      },
      "outputs": [
        {
          "output_type": "execute_result",
          "data": {
            "text/plain": [
              "('1.21.6', <function numpy.__config__.show>)"
            ]
          },
          "metadata": {},
          "execution_count": 2
        }
      ],
      "source": [
        "np.__version__,np.show_config"
      ]
    },
    {
      "cell_type": "markdown",
      "metadata": {
        "id": "SshACxY-RUG5"
      },
      "source": [
        "#### 3. Create a null vector of size 10 (★☆☆) \n",
        "(**hint**: np.zeros)"
      ]
    },
    {
      "cell_type": "code",
      "execution_count": 3,
      "metadata": {
        "colab": {
          "base_uri": "https://localhost:8080/"
        },
        "id": "c3ooH4B2RUG6",
        "outputId": "a70f40d8-4224-4832-f463-2747ca189e58"
      },
      "outputs": [
        {
          "output_type": "execute_result",
          "data": {
            "text/plain": [
              "array([0., 0., 0., 0., 0., 0., 0., 0., 0., 0.])"
            ]
          },
          "metadata": {},
          "execution_count": 3
        }
      ],
      "source": [
        "a=np.zeros(10)\n",
        "a"
      ]
    },
    {
      "cell_type": "markdown",
      "metadata": {
        "id": "1-FZGbeSRUG6"
      },
      "source": [
        "#### 4.  How to find the memory size of any array (★☆☆) \n",
        "(**hint**: size, itemsize)"
      ]
    },
    {
      "cell_type": "code",
      "execution_count": 4,
      "metadata": {
        "colab": {
          "base_uri": "https://localhost:8080/"
        },
        "id": "GvDP40G6RUG7",
        "outputId": "c9130105-2576-4404-b8b9-ef36159b4d34"
      },
      "outputs": [
        {
          "output_type": "stream",
          "name": "stdout",
          "text": [
            "10\n",
            "8\n"
          ]
        }
      ],
      "source": [
        "print(a.size)\n",
        "print(a.itemsize)"
      ]
    },
    {
      "cell_type": "markdown",
      "metadata": {
        "id": "Va5O8tQ-RUG8"
      },
      "source": [
        "#### 5.  How to get the documentation of the numpy add function from the command line? (★☆☆) \n",
        "(**hint**: np.info)"
      ]
    },
    {
      "cell_type": "code",
      "execution_count": 5,
      "metadata": {
        "colab": {
          "base_uri": "https://localhost:8080/"
        },
        "collapsed": true,
        "id": "qHzcU_tLRUG8",
        "outputId": "b458f045-eb1e-464e-f525-c277e1940608"
      },
      "outputs": [
        {
          "output_type": "stream",
          "name": "stdout",
          "text": [
            " sum(a, axis=None, dtype=None, out=None, keepdims=<no value>,\n",
            "     initial=<no value>, where=<no value>)\n",
            "\n",
            "Sum of array elements over a given axis.\n",
            "\n",
            "Parameters\n",
            "----------\n",
            "a : array_like\n",
            "    Elements to sum.\n",
            "axis : None or int or tuple of ints, optional\n",
            "    Axis or axes along which a sum is performed.  The default,\n",
            "    axis=None, will sum all of the elements of the input array.  If\n",
            "    axis is negative it counts from the last to the first axis.\n",
            "\n",
            "    .. versionadded:: 1.7.0\n",
            "\n",
            "    If axis is a tuple of ints, a sum is performed on all of the axes\n",
            "    specified in the tuple instead of a single axis or all the axes as\n",
            "    before.\n",
            "dtype : dtype, optional\n",
            "    The type of the returned array and of the accumulator in which the\n",
            "    elements are summed.  The dtype of `a` is used by default unless `a`\n",
            "    has an integer dtype of less precision than the default platform\n",
            "    integer.  In that case, if `a` is signed then the platform integer\n",
            "    is used while if `a` is unsigned then an unsigned integer of the\n",
            "    same precision as the platform integer is used.\n",
            "out : ndarray, optional\n",
            "    Alternative output array in which to place the result. It must have\n",
            "    the same shape as the expected output, but the type of the output\n",
            "    values will be cast if necessary.\n",
            "keepdims : bool, optional\n",
            "    If this is set to True, the axes which are reduced are left\n",
            "    in the result as dimensions with size one. With this option,\n",
            "    the result will broadcast correctly against the input array.\n",
            "\n",
            "    If the default value is passed, then `keepdims` will not be\n",
            "    passed through to the `sum` method of sub-classes of\n",
            "    `ndarray`, however any non-default value will be.  If the\n",
            "    sub-class' method does not implement `keepdims` any\n",
            "    exceptions will be raised.\n",
            "initial : scalar, optional\n",
            "    Starting value for the sum. See `~numpy.ufunc.reduce` for details.\n",
            "\n",
            "    .. versionadded:: 1.15.0\n",
            "\n",
            "where : array_like of bool, optional\n",
            "    Elements to include in the sum. See `~numpy.ufunc.reduce` for details.\n",
            "\n",
            "    .. versionadded:: 1.17.0\n",
            "\n",
            "Returns\n",
            "-------\n",
            "sum_along_axis : ndarray\n",
            "    An array with the same shape as `a`, with the specified\n",
            "    axis removed.   If `a` is a 0-d array, or if `axis` is None, a scalar\n",
            "    is returned.  If an output array is specified, a reference to\n",
            "    `out` is returned.\n",
            "\n",
            "See Also\n",
            "--------\n",
            "ndarray.sum : Equivalent method.\n",
            "\n",
            "add.reduce : Equivalent functionality of `add`.\n",
            "\n",
            "cumsum : Cumulative sum of array elements.\n",
            "\n",
            "trapz : Integration of array values using the composite trapezoidal rule.\n",
            "\n",
            "mean, average\n",
            "\n",
            "Notes\n",
            "-----\n",
            "Arithmetic is modular when using integer types, and no error is\n",
            "raised on overflow.\n",
            "\n",
            "The sum of an empty array is the neutral element 0:\n",
            "\n",
            ">>> np.sum([])\n",
            "0.0\n",
            "\n",
            "For floating point numbers the numerical precision of sum (and\n",
            "``np.add.reduce``) is in general limited by directly adding each number\n",
            "individually to the result causing rounding errors in every step.\n",
            "However, often numpy will use a  numerically better approach (partial\n",
            "pairwise summation) leading to improved precision in many use-cases.\n",
            "This improved precision is always provided when no ``axis`` is given.\n",
            "When ``axis`` is given, it will depend on which axis is summed.\n",
            "Technically, to provide the best speed possible, the improved precision\n",
            "is only used when the summation is along the fast axis in memory.\n",
            "Note that the exact precision may vary depending on other parameters.\n",
            "In contrast to NumPy, Python's ``math.fsum`` function uses a slower but\n",
            "more precise approach to summation.\n",
            "Especially when summing a large number of lower precision floating point\n",
            "numbers, such as ``float32``, numerical errors can become significant.\n",
            "In such cases it can be advisable to use `dtype=\"float64\"` to use a higher\n",
            "precision for the output.\n",
            "\n",
            "Examples\n",
            "--------\n",
            ">>> np.sum([0.5, 1.5])\n",
            "2.0\n",
            ">>> np.sum([0.5, 0.7, 0.2, 1.5], dtype=np.int32)\n",
            "1\n",
            ">>> np.sum([[0, 1], [0, 5]])\n",
            "6\n",
            ">>> np.sum([[0, 1], [0, 5]], axis=0)\n",
            "array([0, 6])\n",
            ">>> np.sum([[0, 1], [0, 5]], axis=1)\n",
            "array([1, 5])\n",
            ">>> np.sum([[0, 1], [np.nan, 5]], where=[False, True], axis=1)\n",
            "array([1., 5.])\n",
            "\n",
            "If the accumulator is too small, overflow occurs:\n",
            "\n",
            ">>> np.ones(128, dtype=np.int8).sum(dtype=np.int8)\n",
            "-128\n",
            "\n",
            "You can also start the sum with a value other than zero:\n",
            "\n",
            ">>> np.sum([10], initial=5)\n",
            "15\n"
          ]
        }
      ],
      "source": [
        "np.info(np.sum)"
      ]
    },
    {
      "cell_type": "markdown",
      "metadata": {
        "id": "JaLxmtafRUG9"
      },
      "source": [
        "#### 6.  Create a null vector of size 10 but the fifth value which is 1 (★☆☆) \n",
        "(**hint**: array\\[4\\])"
      ]
    },
    {
      "cell_type": "code",
      "execution_count": 6,
      "metadata": {
        "colab": {
          "base_uri": "https://localhost:8080/"
        },
        "id": "I7l8tlmpRUG9",
        "outputId": "3dfaf17f-5db7-46c6-8061-954de6d71670"
      },
      "outputs": [
        {
          "output_type": "stream",
          "name": "stdout",
          "text": [
            "[ 1  2  3  4  5  6  7  8  9 10]\n"
          ]
        },
        {
          "output_type": "execute_result",
          "data": {
            "text/plain": [
              "array([ 1,  2,  3,  4,  1,  6,  7,  8,  9, 10])"
            ]
          },
          "metadata": {},
          "execution_count": 6
        }
      ],
      "source": [
        "b=np.arange(1,11)\n",
        "print(b)\n",
        "b[4]=1\n",
        "b"
      ]
    },
    {
      "cell_type": "markdown",
      "metadata": {
        "id": "CT_REM6JRUG-"
      },
      "source": [
        "#### 7.  Create a vector with values ranging from 10 to 49 (★☆☆) \n",
        "(**hint**: np.arange)"
      ]
    },
    {
      "cell_type": "code",
      "execution_count": 7,
      "metadata": {
        "colab": {
          "base_uri": "https://localhost:8080/"
        },
        "id": "7h7Ta9qjRUG-",
        "outputId": "0e3b927d-fe68-45c8-b65d-dd48d6594a9b"
      },
      "outputs": [
        {
          "output_type": "execute_result",
          "data": {
            "text/plain": [
              "array([10, 11, 12, 13, 14, 15, 16, 17, 18, 19, 20, 21, 22, 23, 24, 25, 26,\n",
              "       27, 28, 29, 30, 31, 32, 33, 34, 35, 36, 37, 38, 39, 40, 41, 42, 43,\n",
              "       44, 45, 46, 47, 48, 49])"
            ]
          },
          "metadata": {},
          "execution_count": 7
        }
      ],
      "source": [
        "c=np.arange(10,50)\n",
        "c"
      ]
    },
    {
      "cell_type": "markdown",
      "metadata": {
        "id": "m8LK0hHeRUG_"
      },
      "source": [
        "#### 8.  Reverse a vector (first element becomes last) (★☆☆) \n",
        "(**hint**: array\\[::-1\\])"
      ]
    },
    {
      "cell_type": "code",
      "execution_count": 8,
      "metadata": {
        "colab": {
          "base_uri": "https://localhost:8080/"
        },
        "id": "e4v_WYcGRUG_",
        "outputId": "9d5e8801-6f8d-496e-c797-40c68ca5a28d"
      },
      "outputs": [
        {
          "output_type": "execute_result",
          "data": {
            "text/plain": [
              "array([49, 48, 47, 46, 45, 44, 43, 42, 41, 40, 39, 38, 37, 36, 35, 34, 33,\n",
              "       32, 31, 30, 29, 28, 27, 26, 25, 24, 23, 22, 21, 20, 19, 18, 17, 16,\n",
              "       15, 14, 13, 12, 11, 10])"
            ]
          },
          "metadata": {},
          "execution_count": 8
        }
      ],
      "source": [
        "c[::-1]"
      ]
    },
    {
      "cell_type": "markdown",
      "metadata": {
        "id": "RDdpQDiLRUG_"
      },
      "source": [
        "#### 9.  Create a 3x3 matrix with values ranging from 0 to 8 (★☆☆) \n",
        "(**hint**: reshape)"
      ]
    },
    {
      "cell_type": "code",
      "execution_count": 9,
      "metadata": {
        "colab": {
          "base_uri": "https://localhost:8080/"
        },
        "id": "Om6sthgTRUHA",
        "outputId": "5aef31a8-06b7-420f-ab94-0f21b85025f1"
      },
      "outputs": [
        {
          "output_type": "execute_result",
          "data": {
            "text/plain": [
              "array([[0, 1, 2],\n",
              "       [3, 4, 5],\n",
              "       [6, 7, 8]])"
            ]
          },
          "metadata": {},
          "execution_count": 9
        }
      ],
      "source": [
        "d=np.arange(0,9).reshape(3,3)\n",
        "d"
      ]
    },
    {
      "cell_type": "markdown",
      "metadata": {
        "id": "zLUY26byRUHA"
      },
      "source": [
        "#### 10. Find indices of non-zero elements from \\[1,2,0,0,4,0\\] (★☆☆) \n",
        "(**hint**: np.nonzero)"
      ]
    },
    {
      "cell_type": "code",
      "execution_count": 10,
      "metadata": {
        "colab": {
          "base_uri": "https://localhost:8080/"
        },
        "id": "gWuwqYRmRUHA",
        "outputId": "14e8ba6a-123b-4dd9-b307-4e0046f784ee"
      },
      "outputs": [
        {
          "output_type": "execute_result",
          "data": {
            "text/plain": [
              "(array([0, 1, 4]),)"
            ]
          },
          "metadata": {},
          "execution_count": 10
        }
      ],
      "source": [
        "e=[1,2,0,0,4,0]\n",
        "np.nonzero(e)"
      ]
    },
    {
      "cell_type": "markdown",
      "metadata": {
        "id": "7N6YM1j8RUHB"
      },
      "source": [
        "#### 11. Create a 3x3 identity matrix (★☆☆) \n",
        "(**hint**: np.eye)"
      ]
    },
    {
      "cell_type": "code",
      "execution_count": 11,
      "metadata": {
        "colab": {
          "base_uri": "https://localhost:8080/"
        },
        "id": "qIkHvoDdRUHB",
        "outputId": "5de568fb-a89a-4c8b-cf1c-686150d8740f"
      },
      "outputs": [
        {
          "output_type": "execute_result",
          "data": {
            "text/plain": [
              "array([[1., 0., 0.],\n",
              "       [0., 1., 0.],\n",
              "       [0., 0., 1.]])"
            ]
          },
          "metadata": {},
          "execution_count": 11
        }
      ],
      "source": [
        "np.eye(3)"
      ]
    },
    {
      "cell_type": "markdown",
      "metadata": {
        "id": "Ym5ZpYfiRUHB"
      },
      "source": [
        "#### 12. Create a 3x3x3 array with random values (★☆☆) \n",
        "(**hint**: np.random.random)"
      ]
    },
    {
      "cell_type": "code",
      "execution_count": 12,
      "metadata": {
        "colab": {
          "base_uri": "https://localhost:8080/"
        },
        "collapsed": true,
        "id": "echFYio9RUHB",
        "outputId": "25ce8590-0026-4e95-e90d-fa285c1f0e25"
      },
      "outputs": [
        {
          "output_type": "execute_result",
          "data": {
            "text/plain": [
              "array([[[0.66651337, 0.59088349, 0.24420842],\n",
              "        [0.55068274, 0.61187053, 0.48542523],\n",
              "        [0.89382255, 0.49896985, 0.04081917]],\n",
              "\n",
              "       [[0.08073556, 0.67048901, 0.80337858],\n",
              "        [0.16073434, 0.31470397, 0.97061053],\n",
              "        [0.7149343 , 0.6714919 , 0.88078283]],\n",
              "\n",
              "       [[0.02927476, 0.57928961, 0.12750316],\n",
              "        [0.17692203, 0.83371541, 0.00638616],\n",
              "        [0.99832121, 0.24401559, 0.89003452]]])"
            ]
          },
          "metadata": {},
          "execution_count": 12
        }
      ],
      "source": [
        "np.random.random((3,3,3))"
      ]
    },
    {
      "cell_type": "markdown",
      "metadata": {
        "id": "4AjMrYEcRUHB"
      },
      "source": [
        "#### 13. Create a 10x10 array with random values and find the minimum and maximum values (★☆☆) \n",
        "(**hint**: min, max)"
      ]
    },
    {
      "cell_type": "code",
      "execution_count": 13,
      "metadata": {
        "colab": {
          "base_uri": "https://localhost:8080/"
        },
        "id": "fnqwM2xCRUHC",
        "outputId": "d684ed8a-7854-4126-8bf2-477c8a79715a"
      },
      "outputs": [
        {
          "output_type": "stream",
          "name": "stdout",
          "text": [
            "[[0.36707695 0.31504803 0.69011365 0.63705846 0.79823768 0.36036033\n",
            "  0.60936634 0.51260077 0.96488363 0.69269688]\n",
            " [0.9569817  0.63366896 0.62336131 0.74531925 0.52963655 0.75453823\n",
            "  0.4486339  0.75440253 0.9719722  0.79461193]\n",
            " [0.63395605 0.33177971 0.69156284 0.35658754 0.41043532 0.16223487\n",
            "  0.45400048 0.44508791 0.17802278 0.11618133]\n",
            " [0.07511737 0.86796184 0.26301923 0.23354893 0.9141019  0.65801122\n",
            "  0.14285031 0.49886517 0.08697622 0.33591708]\n",
            " [0.9813537  0.61226372 0.96947416 0.86281964 0.94584115 0.232065\n",
            "  0.51618173 0.22357584 0.7822459  0.68328667]\n",
            " [0.12159265 0.30421181 0.66687335 0.27041072 0.99749491 0.374936\n",
            "  0.37239732 0.87897664 0.17915645 0.66776017]\n",
            " [0.09814153 0.727783   0.29317389 0.26139366 0.21406756 0.38365218\n",
            "  0.93660474 0.48405844 0.14311504 0.07513644]\n",
            " [0.36792683 0.09094838 0.31327836 0.29142052 0.42664172 0.72736875\n",
            "  0.45222463 0.60505258 0.64985018 0.84585725]\n",
            " [0.7492621  0.65987238 0.58494606 0.43564902 0.53721289 0.67003886\n",
            "  0.82248628 0.94382944 0.7104384  0.78426433]\n",
            " [0.77641379 0.94709978 0.69031127 0.81056441 0.05971642 0.69701664\n",
            "  0.61889708 0.8232668  0.84400444 0.06371662]]\n",
            "0.059716421578492884 0.9974949120758779\n"
          ]
        }
      ],
      "source": [
        "e=np.random.random((10,10))\n",
        "print(e)\n",
        "print(e.min(),e.max())"
      ]
    },
    {
      "cell_type": "markdown",
      "metadata": {
        "id": "FVYMtBXvRUHC"
      },
      "source": [
        "#### 14. Create a random vector of size 30 and find the mean value (★☆☆) \n",
        "(**hint**: mean)"
      ]
    },
    {
      "cell_type": "code",
      "execution_count": 14,
      "metadata": {
        "colab": {
          "base_uri": "https://localhost:8080/"
        },
        "id": "0FYtk7-sRUHC",
        "outputId": "9661ddd8-69e2-46f4-95d5-c7f7ba947faf"
      },
      "outputs": [
        {
          "output_type": "execute_result",
          "data": {
            "text/plain": [
              "0.4397129281115734"
            ]
          },
          "metadata": {},
          "execution_count": 14
        }
      ],
      "source": [
        "f=np.random.random(30)\n",
        "f.mean()"
      ]
    },
    {
      "cell_type": "markdown",
      "metadata": {
        "id": "a2XzH9HRRUHD"
      },
      "source": [
        "#### 15. Create a 2d array with 1 on the border and 0 inside (★☆☆) \n",
        "(**hint**: array\\[1:-1, 1:-1\\])"
      ]
    },
    {
      "cell_type": "code",
      "execution_count": 15,
      "metadata": {
        "colab": {
          "base_uri": "https://localhost:8080/"
        },
        "id": "3aO_ZHx6RUHD",
        "outputId": "dca42f9f-12de-4717-b1a9-854ae58f6019"
      },
      "outputs": [
        {
          "output_type": "stream",
          "name": "stdout",
          "text": [
            "[[1. 1. 1. 1. 1.]\n",
            " [1. 1. 1. 1. 1.]\n",
            " [1. 1. 1. 1. 1.]\n",
            " [1. 1. 1. 1. 1.]\n",
            " [1. 1. 1. 1. 1.]]\n"
          ]
        },
        {
          "output_type": "execute_result",
          "data": {
            "text/plain": [
              "array([[1., 1., 1., 1., 1.],\n",
              "       [1., 0., 0., 0., 1.],\n",
              "       [1., 0., 0., 0., 1.],\n",
              "       [1., 0., 0., 0., 1.],\n",
              "       [1., 1., 1., 1., 1.]])"
            ]
          },
          "metadata": {},
          "execution_count": 15
        }
      ],
      "source": [
        "g=np.ones((5,5))\n",
        "print(g)\n",
        "g[1:-1,1:-1]=0\n",
        "g"
      ]
    },
    {
      "cell_type": "markdown",
      "metadata": {
        "id": "-uapWhcLRUHD"
      },
      "source": [
        "#### 16. How to add a border (filled with 0's) around an existing array? (★☆☆) \n",
        "(**hint**: np.pad)"
      ]
    },
    {
      "cell_type": "code",
      "execution_count": 16,
      "metadata": {
        "colab": {
          "base_uri": "https://localhost:8080/"
        },
        "id": "_Yd4pwxvRUHD",
        "outputId": "a91bd6a2-9d4c-4d19-8e16-2adc7a1bf431"
      },
      "outputs": [
        {
          "output_type": "stream",
          "name": "stdout",
          "text": [
            "[[1. 1. 1. 1. 1.]\n",
            " [1. 0. 0. 0. 1.]\n",
            " [1. 0. 0. 0. 1.]\n",
            " [1. 0. 0. 0. 1.]\n",
            " [1. 1. 1. 1. 1.]]\n"
          ]
        },
        {
          "output_type": "execute_result",
          "data": {
            "text/plain": [
              "array([[0., 0., 0., 0., 0., 0., 0., 0., 0.],\n",
              "       [0., 0., 0., 0., 0., 0., 0., 0., 0.],\n",
              "       [0., 0., 1., 1., 1., 1., 1., 0., 0.],\n",
              "       [0., 0., 1., 0., 0., 0., 1., 0., 0.],\n",
              "       [0., 0., 1., 0., 0., 0., 1., 0., 0.],\n",
              "       [0., 0., 1., 0., 0., 0., 1., 0., 0.],\n",
              "       [0., 0., 1., 1., 1., 1., 1., 0., 0.],\n",
              "       [0., 0., 0., 0., 0., 0., 0., 0., 0.],\n",
              "       [0., 0., 0., 0., 0., 0., 0., 0., 0.]])"
            ]
          },
          "metadata": {},
          "execution_count": 16
        }
      ],
      "source": [
        "print(g)\n",
        "np.pad(g,pad_width=2,mode=\"constant\",constant_values=0)"
      ]
    },
    {
      "cell_type": "markdown",
      "metadata": {
        "id": "FNWuoK9sRUHD"
      },
      "source": [
        "#### 17. What is the result of the following expression? (★☆☆) \n",
        "(**hint**: NaN = not a number, inf = infinity)"
      ]
    },
    {
      "cell_type": "markdown",
      "metadata": {
        "id": "mvGNjpmHRUHE"
      },
      "source": [
        "```python\n",
        "0 * np.nan\n",
        "np.nan == np.nan\n",
        "np.inf > np.nan\n",
        "np.nan - np.nan\n",
        "0.3 == 3 * 0.1\n",
        "```"
      ]
    },
    {
      "cell_type": "code",
      "execution_count": 17,
      "metadata": {
        "colab": {
          "base_uri": "https://localhost:8080/"
        },
        "id": "SxhHsChHRUHE",
        "outputId": "0d83bbd5-76c1-43a6-e758-8ce3c433686c"
      },
      "outputs": [
        {
          "output_type": "stream",
          "name": "stdout",
          "text": [
            "nan\n",
            "False\n",
            "False\n",
            "nan\n",
            "False\n"
          ]
        }
      ],
      "source": [
        "print(0*np.nan)\n",
        "print(np.nan==np.nan)\n",
        "print(np.inf>np.nan)\n",
        "print(np.nan-np.nan)\n",
        "print(0.3==3*0.1)"
      ]
    },
    {
      "cell_type": "markdown",
      "metadata": {
        "id": "vfTZg2i8RUHE"
      },
      "source": [
        "#### 18. Create a 5x5 matrix with values 1,2,3,4 just below the diagonal (★☆☆) \n",
        "(**hint**: np.diag)"
      ]
    },
    {
      "cell_type": "code",
      "execution_count": 18,
      "metadata": {
        "colab": {
          "base_uri": "https://localhost:8080/"
        },
        "id": "50mvAu0lRUHE",
        "outputId": "7ead8128-04ba-4b9e-ee4e-e8e94f2735bb"
      },
      "outputs": [
        {
          "output_type": "execute_result",
          "data": {
            "text/plain": [
              "array([[0, 0, 0, 0, 0],\n",
              "       [1, 0, 0, 0, 0],\n",
              "       [0, 2, 0, 0, 0],\n",
              "       [0, 0, 3, 0, 0],\n",
              "       [0, 0, 0, 4, 0]])"
            ]
          },
          "metadata": {},
          "execution_count": 18
        }
      ],
      "source": [
        "np.diag([1,2,3,4],k=-1)"
      ]
    },
    {
      "cell_type": "markdown",
      "metadata": {
        "id": "aEpR7sd2RUHF"
      },
      "source": [
        "#### 19. Create a 8x8 matrix and fill it with a checkerboard pattern (★☆☆) \n",
        "(**hint**: array\\[::2\\])"
      ]
    },
    {
      "cell_type": "code",
      "execution_count": 19,
      "metadata": {
        "colab": {
          "base_uri": "https://localhost:8080/"
        },
        "id": "DsFi6lM3RUHF",
        "outputId": "755e2874-a6bb-4cbc-eee2-f90fb0648e37"
      },
      "outputs": [
        {
          "output_type": "execute_result",
          "data": {
            "text/plain": [
              "array([[1., 0., 1., 0., 1., 0., 1., 0.],\n",
              "       [0., 1., 0., 1., 0., 1., 0., 1.],\n",
              "       [1., 0., 1., 0., 1., 0., 1., 0.],\n",
              "       [0., 1., 0., 1., 0., 1., 0., 1.],\n",
              "       [1., 0., 1., 0., 1., 0., 1., 0.],\n",
              "       [0., 1., 0., 1., 0., 1., 0., 1.],\n",
              "       [1., 0., 1., 0., 1., 0., 1., 0.],\n",
              "       [0., 1., 0., 1., 0., 1., 0., 1.]])"
            ]
          },
          "metadata": {},
          "execution_count": 19
        }
      ],
      "source": [
        "g=np.ones((8,8))\n",
        "g[1::2,::2]=0\n",
        "g[::2,1::2]=0\n",
        "g"
      ]
    },
    {
      "cell_type": "markdown",
      "metadata": {
        "id": "4YyVwSk7RUHF"
      },
      "source": [
        "#### 20. Consider a (6,7,8) shape array, what is the index (x,y,z) of the 100th element? \n",
        "(**hint**: np.unravel_index)"
      ]
    },
    {
      "cell_type": "code",
      "execution_count": 20,
      "metadata": {
        "colab": {
          "base_uri": "https://localhost:8080/"
        },
        "id": "aCzG2_tURUHF",
        "outputId": "f8f78369-da96-45cf-a3df-15c0b4207212"
      },
      "outputs": [
        {
          "output_type": "execute_result",
          "data": {
            "text/plain": [
              "(1, 5, 4)"
            ]
          },
          "metadata": {},
          "execution_count": 20
        }
      ],
      "source": [
        "np.unravel_index(100,(6,7,8))"
      ]
    },
    {
      "cell_type": "markdown",
      "metadata": {
        "id": "kqBE90euRUHF"
      },
      "source": [
        "#### 21. Create a checkerboard 8x8 matrix using the tile function (★☆☆) \n",
        "(**hint**: np.tile)"
      ]
    },
    {
      "cell_type": "code",
      "execution_count": 21,
      "metadata": {
        "colab": {
          "base_uri": "https://localhost:8080/"
        },
        "id": "DCh1YNLPRUHG",
        "outputId": "28fc40ce-0f43-49f5-bf44-c048593df96f"
      },
      "outputs": [
        {
          "output_type": "execute_result",
          "data": {
            "text/plain": [
              "array([[0, 1, 0, 1, 0, 1, 0, 1],\n",
              "       [1, 0, 1, 0, 1, 0, 1, 0],\n",
              "       [0, 1, 0, 1, 0, 1, 0, 1],\n",
              "       [1, 0, 1, 0, 1, 0, 1, 0],\n",
              "       [0, 1, 0, 1, 0, 1, 0, 1],\n",
              "       [1, 0, 1, 0, 1, 0, 1, 0],\n",
              "       [0, 1, 0, 1, 0, 1, 0, 1],\n",
              "       [1, 0, 1, 0, 1, 0, 1, 0]])"
            ]
          },
          "metadata": {},
          "execution_count": 21
        }
      ],
      "source": [
        "np.tile(np.array([[0,1],[1,0]]),(4,4))"
      ]
    },
    {
      "cell_type": "markdown",
      "metadata": {
        "id": "1EjoCnFTRUHG"
      },
      "source": [
        "#### 22. Normalize a 5x5 random matrix (★☆☆) \n",
        "(**hint**: (x - min) / (max - min))"
      ]
    },
    {
      "cell_type": "code",
      "execution_count": 22,
      "metadata": {
        "colab": {
          "base_uri": "https://localhost:8080/"
        },
        "id": "F8dxhGogRUHG",
        "outputId": "0bb4dc1f-92a2-4238-f3f5-941058908823"
      },
      "outputs": [
        {
          "output_type": "stream",
          "name": "stdout",
          "text": [
            "[[0.79030252 0.75566893 0.38034464 0.31205476 0.27278995]\n",
            " [0.7104213  0.37271265 0.42449807 0.03995734 0.38626959]\n",
            " [0.12141737 0.60953733 0.27143424 0.20364684 0.54084562]\n",
            " [0.70328128 0.00914082 0.24084646 0.5671062  0.80222882]\n",
            " [0.36384494 0.69660349 0.10337046 0.45944017 0.85677324]]\n"
          ]
        },
        {
          "output_type": "stream",
          "name": "stderr",
          "text": [
            "/usr/local/lib/python3.7/dist-packages/ipykernel_launcher.py:3: RuntimeWarning: divide by zero encountered in true_divide\n",
            "  This is separate from the ipykernel package so we can avoid doing imports until\n",
            "/usr/local/lib/python3.7/dist-packages/ipykernel_launcher.py:3: RuntimeWarning: invalid value encountered in true_divide\n",
            "  This is separate from the ipykernel package so we can avoid doing imports until\n"
          ]
        },
        {
          "output_type": "execute_result",
          "data": {
            "text/plain": [
              "array([[inf, inf, inf, inf, inf],\n",
              "       [inf, inf, inf, inf, inf],\n",
              "       [inf, inf, inf, inf, inf],\n",
              "       [inf, nan, inf, inf, inf],\n",
              "       [inf, inf, inf, inf, inf]])"
            ]
          },
          "metadata": {},
          "execution_count": 22
        }
      ],
      "source": [
        "x=np.random.random((5,5))\n",
        "print(x)\n",
        "(x-x.min())/(x.max()-x.max())"
      ]
    },
    {
      "cell_type": "markdown",
      "metadata": {
        "id": "z1-rOnIkRUHG"
      },
      "source": [
        "#### 23. Create a custom dtype that describes a color as four unsigned bytes (RGBA) (★☆☆) \n",
        "(**hint**: np.dtype)"
      ]
    },
    {
      "cell_type": "code",
      "execution_count": 23,
      "metadata": {
        "colab": {
          "base_uri": "https://localhost:8080/"
        },
        "collapsed": true,
        "id": "WXzeepeuRUHG",
        "outputId": "16ea6548-a2c5-4d7d-b9f1-c32e442f1e8c"
      },
      "outputs": [
        {
          "output_type": "stream",
          "name": "stdout",
          "text": [
            "4\n"
          ]
        },
        {
          "output_type": "execute_result",
          "data": {
            "text/plain": [
              "numpy.ndarray"
            ]
          },
          "metadata": {},
          "execution_count": 23
        }
      ],
      "source": [
        "RGBA = np.dtype([('r',np.uint8),('g',np.uint8),('b',np.uint8),('a',np.uint8)])\n",
        "color = np.array((1,2,3,4),dtype = RGBA)\n",
        "print(color['a'])\n",
        "type(color)"
      ]
    },
    {
      "cell_type": "markdown",
      "metadata": {
        "id": "d07OM-zIRUHH"
      },
      "source": [
        "#### 24. Multiply a 5x3 matrix by a 3x2 matrix (real matrix product) (★☆☆) \n",
        "(**hint**: np.dot | @)"
      ]
    },
    {
      "cell_type": "code",
      "execution_count": 24,
      "metadata": {
        "colab": {
          "base_uri": "https://localhost:8080/"
        },
        "id": "1LxG-ASaRUHH",
        "outputId": "d832b0ad-6712-4edd-b40f-6810c0287f1e"
      },
      "outputs": [
        {
          "output_type": "execute_result",
          "data": {
            "text/plain": [
              "array([[0.09971936, 0.40120122],\n",
              "       [0.24429464, 0.35509002],\n",
              "       [0.18860745, 0.59818591],\n",
              "       [0.1221576 , 0.34328313],\n",
              "       [0.03385604, 0.28248234]])"
            ]
          },
          "metadata": {},
          "execution_count": 24
        }
      ],
      "source": [
        "x=np.random.random((5,3))\n",
        "y=np.random.random((3,2))\n",
        "np.dot(x,y)"
      ]
    },
    {
      "cell_type": "markdown",
      "metadata": {
        "id": "9vyfBbCaRUHH"
      },
      "source": [
        "#### 25. Given a 1D array, negate all elements which are between 3 and 8, in place. (★☆☆) \n",
        "(**hint**: >, <=)"
      ]
    },
    {
      "cell_type": "code",
      "execution_count": 25,
      "metadata": {
        "colab": {
          "base_uri": "https://localhost:8080/"
        },
        "id": "121Sud6MRUHH",
        "outputId": "eca3a4fc-4e9a-4cd0-ac1d-c015151b5a7b"
      },
      "outputs": [
        {
          "output_type": "stream",
          "name": "stdout",
          "text": [
            "[ 1  2  3  4  5  6  7  8  9 10]\n"
          ]
        },
        {
          "output_type": "execute_result",
          "data": {
            "text/plain": [
              "array([ 1,  2,  3, -4, -5, -6, -7,  8,  9, 10])"
            ]
          },
          "metadata": {},
          "execution_count": 25
        }
      ],
      "source": [
        "m=np.arange(1,11)\n",
        "print(m)\n",
        "m[(3<m)&(m<8)]*=-1\n",
        "m"
      ]
    },
    {
      "cell_type": "markdown",
      "metadata": {
        "id": "c1-rB5kPRUHH"
      },
      "source": [
        "#### 26. What is the output of the following script? (★☆☆) \n",
        "(**hint**: np.sum)"
      ]
    },
    {
      "cell_type": "markdown",
      "metadata": {
        "id": "kVARO7_KRUHI"
      },
      "source": [
        "```python\n",
        "# Author: Jake VanderPlas\n",
        "\n",
        "print(sum(range(5),-1))\n",
        "from numpy import *\n",
        "print(sum(range(5),-1))\n",
        "```"
      ]
    },
    {
      "cell_type": "code",
      "execution_count": 26,
      "metadata": {
        "colab": {
          "base_uri": "https://localhost:8080/"
        },
        "id": "hp4WfT35RUHI",
        "outputId": "c3844b74-8470-4840-fc57-81fd58c16842"
      },
      "outputs": [
        {
          "output_type": "stream",
          "name": "stdout",
          "text": [
            "9\n",
            "10\n"
          ]
        }
      ],
      "source": [
        "print(sum(range(5),-1))\n",
        "from numpy import *\n",
        "print(sum(range(5),-1))"
      ]
    },
    {
      "cell_type": "markdown",
      "metadata": {
        "id": "-Bk7CrmyRUHI"
      },
      "source": [
        "#### 27. Consider an integer vector Z, which of these expressions are legal? (★☆☆)"
      ]
    },
    {
      "cell_type": "markdown",
      "metadata": {
        "id": "xTX93g_pRUHI"
      },
      "source": [
        "```python\n",
        "Z**Z\n",
        "2 << Z >> 2\n",
        "Z <- Z\n",
        "1j*Z\n",
        "Z/1/1\n",
        "Z<Z>Z\n",
        "```"
      ]
    },
    {
      "cell_type": "code",
      "execution_count": 27,
      "metadata": {
        "colab": {
          "base_uri": "https://localhost:8080/"
        },
        "id": "KvJVQJnbRUHJ",
        "outputId": "70e4cd6e-0fdb-486d-b0fc-5cb42afe7b26"
      },
      "outputs": [
        {
          "output_type": "stream",
          "name": "stdout",
          "text": [
            "[        1         4        27       256      3125     46656    823543\n",
            "  16777216 387420489]\n",
            "[  16   32   64  128  256  512 1024 2048 4096]\n",
            "[False False False False False False False False False]\n",
            "[0.+1.j 0.+2.j 0.+3.j 0.+4.j 0.+5.j 0.+6.j 0.+7.j 0.+8.j 0.+9.j]\n",
            "[1. 2. 3. 4. 5. 6. 7. 8. 9.]\n"
          ]
        }
      ],
      "source": [
        "z=arange(1,10)\n",
        "print(z**z)\n",
        "print(2<<z<<2)\n",
        "print(z<-z)\n",
        "print(1j*z)\n",
        "print(z/1/1)\n",
        "# print(z<z<z)"
      ]
    },
    {
      "cell_type": "markdown",
      "metadata": {
        "id": "JDwQK-7YRUHJ"
      },
      "source": [
        "#### 28. What are the result of the following expressions?"
      ]
    },
    {
      "cell_type": "markdown",
      "metadata": {
        "id": "VvlL1DyfRUHJ"
      },
      "source": [
        "```python\n",
        "np.array(0) / np.array(0)\n",
        "np.array(0) // np.array(0)\n",
        "np.array([np.nan]).astype(int).astype(float)\n",
        "```"
      ]
    },
    {
      "cell_type": "code",
      "execution_count": 28,
      "metadata": {
        "colab": {
          "base_uri": "https://localhost:8080/"
        },
        "id": "ldtPohYpRUHJ",
        "outputId": "64fe76a4-6bb5-4d97-b24b-324a6d911e7d"
      },
      "outputs": [
        {
          "output_type": "stream",
          "name": "stderr",
          "text": [
            "/usr/local/lib/python3.7/dist-packages/ipykernel_launcher.py:1: RuntimeWarning: invalid value encountered in true_divide\n",
            "  \"\"\"Entry point for launching an IPython kernel.\n",
            "/usr/local/lib/python3.7/dist-packages/ipykernel_launcher.py:2: RuntimeWarning: divide by zero encountered in floor_divide\n",
            "  \n"
          ]
        },
        {
          "output_type": "execute_result",
          "data": {
            "text/plain": [
              "array([-9.22337204e+18])"
            ]
          },
          "metadata": {},
          "execution_count": 28
        }
      ],
      "source": [
        "np.array(0)/np.array(0)\n",
        "np.array(0)//np.array(0)\n",
        "np.array([np.nan]).astype(int).astype(float)"
      ]
    },
    {
      "cell_type": "markdown",
      "metadata": {
        "id": "BcvpaxjmRUHJ"
      },
      "source": [
        "#### 29. How to round away from zero a float array ? (★☆☆) \n",
        "(**hint**: np.uniform, np.copysign, np.ceil, np.abs)"
      ]
    },
    {
      "cell_type": "code",
      "execution_count": 29,
      "metadata": {
        "colab": {
          "base_uri": "https://localhost:8080/"
        },
        "id": "MiLkp6ABRUHJ",
        "outputId": "073a6636-4fd3-49cf-b0bb-8b19ed372ca0"
      },
      "outputs": [
        {
          "output_type": "stream",
          "name": "stdout",
          "text": [
            "[ 0.04525219 -1.53850996 -6.95184958  5.52338935 -3.46655225]\n"
          ]
        },
        {
          "output_type": "execute_result",
          "data": {
            "text/plain": [
              "array([ 1., -1., -6.,  6., -3.])"
            ]
          },
          "metadata": {},
          "execution_count": 29
        }
      ],
      "source": [
        "j=np.random.uniform(-8,8,5)\n",
        "print(j)\n",
        "np.copysign(j,+2)\n",
        "np.abs(j)\n",
        "np.ceil(j)#round"
      ]
    },
    {
      "cell_type": "markdown",
      "metadata": {
        "id": "NzD0VuMRRUHK"
      },
      "source": [
        "#### 30. How to find common values between two arrays? (★☆☆) \n",
        "(**hint**: np.intersect1d)"
      ]
    },
    {
      "cell_type": "code",
      "execution_count": 30,
      "metadata": {
        "colab": {
          "base_uri": "https://localhost:8080/"
        },
        "id": "eXozOOxQRUHK",
        "outputId": "2cd62b3c-1614-417e-e09f-35fd9e4d3d5b"
      },
      "outputs": [
        {
          "output_type": "execute_result",
          "data": {
            "text/plain": [
              "array([6, 7, 8, 9])"
            ]
          },
          "metadata": {},
          "execution_count": 30
        }
      ],
      "source": [
        "k=np.arange(1,10)\n",
        "l=np.arange(6,15)\n",
        "np.intersect1d(k,l)\n"
      ]
    },
    {
      "cell_type": "markdown",
      "metadata": {
        "id": "KplzG9tBRUHK"
      },
      "source": [
        "#### 31. How to ignore all numpy warnings (not recommended)? (★☆☆) \n",
        "(**hint**: np.seterr, np.errstate)"
      ]
    },
    {
      "cell_type": "code",
      "execution_count": 31,
      "metadata": {
        "colab": {
          "base_uri": "https://localhost:8080/"
        },
        "id": "pfB0Q5v0RUHK",
        "outputId": "11ed4622-9df4-480d-8988-3daa57eb90c5"
      },
      "outputs": [
        {
          "output_type": "stream",
          "name": "stdout",
          "text": [
            "{'divide': 'warn', 'over': 'warn', 'under': 'ignore', 'invalid': 'warn'}\n"
          ]
        },
        {
          "output_type": "execute_result",
          "data": {
            "text/plain": [
              "<numpy.errstate at 0x7f13b88a5190>"
            ]
          },
          "metadata": {},
          "execution_count": 31
        }
      ],
      "source": [
        "print(np.seterr())\n",
        "np.errstate()"
      ]
    },
    {
      "cell_type": "markdown",
      "metadata": {
        "id": "8T8wWoxyRUHK"
      },
      "source": [
        "#### 32. Is the following expressions true? (★☆☆) \n",
        "(**hint**: imaginary number)"
      ]
    },
    {
      "cell_type": "markdown",
      "metadata": {
        "id": "vyjmWky9RUHK"
      },
      "source": [
        "```python\n",
        "np.sqrt(-1) == np.emath.sqrt(-1)\n",
        "```"
      ]
    },
    {
      "cell_type": "code",
      "execution_count": 32,
      "metadata": {
        "colab": {
          "base_uri": "https://localhost:8080/"
        },
        "id": "aplfjihaRUHL",
        "outputId": "66350bcc-0bb0-40df-b75a-5b2d80243286"
      },
      "outputs": [
        {
          "output_type": "stream",
          "name": "stderr",
          "text": [
            "/usr/local/lib/python3.7/dist-packages/ipykernel_launcher.py:1: RuntimeWarning: invalid value encountered in sqrt\n",
            "  \"\"\"Entry point for launching an IPython kernel.\n"
          ]
        },
        {
          "output_type": "execute_result",
          "data": {
            "text/plain": [
              "False"
            ]
          },
          "metadata": {},
          "execution_count": 32
        }
      ],
      "source": [
        "np.sqrt(-1) == np.emath.sqrt(-1)"
      ]
    },
    {
      "cell_type": "markdown",
      "metadata": {
        "id": "mRwk7JfwRUHL"
      },
      "source": [
        "#### 33. How to get the dates of yesterday, today and tomorrow? (★☆☆) \n",
        "(**hint**: np.datetime64, np.timedelta64)"
      ]
    },
    {
      "cell_type": "code",
      "execution_count": 33,
      "metadata": {
        "colab": {
          "base_uri": "https://localhost:8080/"
        },
        "collapsed": true,
        "id": "iGm5MnvSRUHL",
        "outputId": "1f83cfce-ca09-4c91-e79a-607203dc0981"
      },
      "outputs": [
        {
          "output_type": "stream",
          "name": "stdout",
          "text": [
            "Yesterday:  2022-05-13\n",
            "Today:  2022-05-14\n",
            "Tomorrow:  2022-05-15\n"
          ]
        }
      ],
      "source": [
        "y = np.datetime64('today', 'D') - np.timedelta64(1, 'D')\n",
        "print(\"Yesterday: \",y)\n",
        "t     = np.datetime64('today', 'D')\n",
        "print(\"Today: \",t)\n",
        "tomorrow  = np.datetime64('today', 'D') + np.timedelta64(1, 'D')\n",
        "print(\"Tomorrow: \",tomorrow)"
      ]
    },
    {
      "cell_type": "markdown",
      "metadata": {
        "id": "8Drlwg38RUHL"
      },
      "source": [
        "#### 34. How to get all the dates corresponding to the month of July 2016? (★★☆) \n",
        "(**hint**: np.arange(dtype=datetime64\\['D'\\]))"
      ]
    },
    {
      "cell_type": "code",
      "execution_count": 34,
      "metadata": {
        "colab": {
          "base_uri": "https://localhost:8080/"
        },
        "id": "uUzhmdwURUHL",
        "outputId": "57ff9608-b009-4608-b983-8541c95b93ad"
      },
      "outputs": [
        {
          "output_type": "execute_result",
          "data": {
            "text/plain": [
              "array(['2016-07-01', '2016-07-02', '2016-07-03', '2016-07-04',\n",
              "       '2016-07-05', '2016-07-06', '2016-07-07', '2016-07-08',\n",
              "       '2016-07-09', '2016-07-10', '2016-07-11', '2016-07-12',\n",
              "       '2016-07-13', '2016-07-14', '2016-07-15', '2016-07-16',\n",
              "       '2016-07-17', '2016-07-18', '2016-07-19', '2016-07-20',\n",
              "       '2016-07-21', '2016-07-22', '2016-07-23', '2016-07-24',\n",
              "       '2016-07-25', '2016-07-26', '2016-07-27', '2016-07-28',\n",
              "       '2016-07-29', '2016-07-30', '2016-07-31'], dtype='datetime64[D]')"
            ]
          },
          "metadata": {},
          "execution_count": 34
        }
      ],
      "source": [
        "np.arange(\"2016-07\",\"2016-08\",dtype='datetime64[D]')"
      ]
    },
    {
      "cell_type": "markdown",
      "metadata": {
        "id": "75UzfRZGRUHL"
      },
      "source": [
        "#### 35. How to compute ((A+B)\\*(-A/2)) in place (without copy)? (★★☆) \n",
        "(**hint**: np.add(out=), np.negative(out=), np.multiply(out=), np.divide(out=))"
      ]
    },
    {
      "cell_type": "code",
      "execution_count": 35,
      "metadata": {
        "colab": {
          "base_uri": "https://localhost:8080/"
        },
        "id": "mFZUaG_0RUHM",
        "outputId": "e298ee32-ed47-499d-a4f5-8e56878c590a"
      },
      "outputs": [
        {
          "output_type": "execute_result",
          "data": {
            "text/plain": [
              "array([-5., -5., -5.])"
            ]
          },
          "metadata": {},
          "execution_count": 35
        }
      ],
      "source": [
        "p=np.ones(3)*2\n",
        "q=np.ones(3)*3\n",
        "np.multiply((np.add(p,q)),np.divide(np.negative(p),2))\n"
      ]
    },
    {
      "cell_type": "markdown",
      "metadata": {
        "id": "2_658cdPRUHM"
      },
      "source": [
        "#### 36. Extract the integer part of a random array using 5 different methods (★★☆) \n",
        "(**hint**: %, np.floor, np.ceil, astype, np.trunc)"
      ]
    },
    {
      "cell_type": "code",
      "execution_count": 36,
      "metadata": {
        "colab": {
          "base_uri": "https://localhost:8080/"
        },
        "id": "pUC_9BDmRUHM",
        "outputId": "2b1b9e79-672e-49cf-8b9c-002b29ad4d38"
      },
      "outputs": [
        {
          "output_type": "stream",
          "name": "stdout",
          "text": [
            "[ 1.    3.25  5.5   7.75 10.  ]\n",
            "[ 0.  2.  4.  6. 10.]\n",
            "[ 1.  3.  5.  7. 10.]\n",
            "[ 1.  4.  6.  8. 10.]\n",
            "[ 1.  3.  5.  7. 10.]\n",
            "[ 1.  +0.j  3.25+0.j  5.5 +0.j  7.75+0.j 10.  +0.j]\n"
          ]
        }
      ],
      "source": [
        "o=np.linspace(1,10,5)\n",
        "print(o)\n",
        "print(o-o%2)\n",
        "print(np.floor(o))\n",
        "print(np.ceil(o))\n",
        "print(np.trunc(o))\n",
        "print(o.astype(complex))\n"
      ]
    },
    {
      "cell_type": "markdown",
      "metadata": {
        "id": "JVvaSkUzRUHM"
      },
      "source": [
        "#### 37. Create a 5x5 matrix with row values ranging from 0 to 4 (★★☆) \n",
        "(**hint**: np.arange)"
      ]
    },
    {
      "cell_type": "code",
      "execution_count": 37,
      "metadata": {
        "colab": {
          "base_uri": "https://localhost:8080/"
        },
        "id": "QKJk47pNRUHN",
        "outputId": "ed27e0e4-4e47-4c21-ff72-6b01c1ad546b"
      },
      "outputs": [
        {
          "output_type": "stream",
          "name": "stdout",
          "text": [
            "[[0 1 2 3 4]\n",
            " [0 1 2 3 4]\n",
            " [0 1 2 3 4]\n",
            " [0 1 2 3 4]\n",
            " [0 1 2 3 4]]\n"
          ]
        },
        {
          "output_type": "execute_result",
          "data": {
            "text/plain": [
              "(5, 5)"
            ]
          },
          "metadata": {},
          "execution_count": 37
        }
      ],
      "source": [
        "s=np.tile(np.arange(0,5),(5,1))\n",
        "print(s)\n",
        "s.shape"
      ]
    },
    {
      "cell_type": "markdown",
      "metadata": {
        "id": "1JxFZUafRUHN"
      },
      "source": [
        "#### 38. Consider a generator function that generates 10 integers and use it to build an array (★☆☆) \n",
        "(**hint**: np.fromiter)"
      ]
    },
    {
      "cell_type": "code",
      "execution_count": 38,
      "metadata": {
        "colab": {
          "base_uri": "https://localhost:8080/"
        },
        "id": "KWzj9WfSRUHN",
        "outputId": "fc7c92cc-05d6-4582-aa4a-5832189d64c6"
      },
      "outputs": [
        {
          "output_type": "execute_result",
          "data": {
            "text/plain": [
              "array([0, 1, 2, 3, 4, 5, 6, 7, 8, 9])"
            ]
          },
          "metadata": {},
          "execution_count": 38
        }
      ],
      "source": [
        "def generator():\n",
        "  for i in range(0,10):\n",
        "        yield i\n",
        "np.fromiter(generator(),dtype=int)"
      ]
    },
    {
      "cell_type": "markdown",
      "metadata": {
        "id": "HuH2P00FRUHN"
      },
      "source": [
        "#### 39. Create a vector of size 10 with values ranging from 0 to 1, both excluded (★★☆) \n",
        "(**hint**: np.linspace)"
      ]
    },
    {
      "cell_type": "code",
      "execution_count": 39,
      "metadata": {
        "colab": {
          "base_uri": "https://localhost:8080/"
        },
        "id": "6UsjIPi0RUHO",
        "outputId": "ad0f10b7-8a76-43d9-fa46-38b8a4163b64"
      },
      "outputs": [
        {
          "output_type": "execute_result",
          "data": {
            "text/plain": [
              "array([0.09090909, 0.18181818, 0.27272727, 0.36363636, 0.45454545,\n",
              "       0.54545455, 0.63636364, 0.72727273, 0.81818182, 0.90909091])"
            ]
          },
          "metadata": {},
          "execution_count": 39
        }
      ],
      "source": [
        "np.linspace(0,1,12,endpoint=True)[1:-1]"
      ]
    },
    {
      "cell_type": "markdown",
      "metadata": {
        "id": "bg7cWsdlRUHO"
      },
      "source": [
        "#### 40. Create a random vector of size 10 and sort it (★★☆) \n",
        "(**hint**: sort)"
      ]
    },
    {
      "cell_type": "code",
      "execution_count": 40,
      "metadata": {
        "colab": {
          "base_uri": "https://localhost:8080/"
        },
        "id": "vqsABnkxRUHO",
        "outputId": "3e49ae1b-dd47-472a-a8dc-534bb860b5e3"
      },
      "outputs": [
        {
          "output_type": "execute_result",
          "data": {
            "text/plain": [
              "array([[0, 1, 2, 3, 4],\n",
              "       [0, 1, 2, 3, 4],\n",
              "       [0, 1, 2, 3, 4],\n",
              "       [0, 1, 2, 3, 4],\n",
              "       [0, 1, 2, 3, 4]])"
            ]
          },
          "metadata": {},
          "execution_count": 40
        }
      ],
      "source": [
        "rv=np.random.randint(20,size=10)\n",
        "rv.sort()\n",
        "s"
      ]
    },
    {
      "cell_type": "markdown",
      "metadata": {
        "id": "3MWWPbtgRUHO"
      },
      "source": [
        "#### 41. How to sum a small array faster than np.sum? (★★☆) \n",
        "(**hint**: np.add.reduce)"
      ]
    },
    {
      "cell_type": "code",
      "execution_count": 41,
      "metadata": {
        "colab": {
          "base_uri": "https://localhost:8080/"
        },
        "id": "i1jQ5PRXRUHO",
        "outputId": "83333d65-54f2-4b10-a363-86f42ab349b8"
      },
      "outputs": [
        {
          "output_type": "execute_result",
          "data": {
            "text/plain": [
              "array([[27, 30, 33],\n",
              "       [36, 39, 42],\n",
              "       [45, 48, 51]])"
            ]
          },
          "metadata": {},
          "execution_count": 41
        }
      ],
      "source": [
        "np.add.reduce(np.arange(27).reshape((3,3,3)),0)"
      ]
    },
    {
      "cell_type": "markdown",
      "metadata": {
        "id": "6qj4ACD2RUHP"
      },
      "source": [
        "#### 42. Consider two random array A and B, check if they are equal (★★☆) \n",
        "(**hint**: np.allclose, np.array\\_equal)"
      ]
    },
    {
      "cell_type": "code",
      "execution_count": 42,
      "metadata": {
        "colab": {
          "base_uri": "https://localhost:8080/"
        },
        "id": "9CW06jyrRUHP",
        "outputId": "ccd13be3-3999-4b64-fa9e-fc8e8cb0e501"
      },
      "outputs": [
        {
          "output_type": "execute_result",
          "data": {
            "text/plain": [
              "False"
            ]
          },
          "metadata": {},
          "execution_count": 42
        }
      ],
      "source": [
        "A=np.random.randint(10,20,5)\n",
        "B=np.random.randint(10,20,5)\n",
        "np.array_equal(A,B)"
      ]
    },
    {
      "cell_type": "markdown",
      "metadata": {
        "id": "YZlIR-A0RUHP"
      },
      "source": [
        "#### 43. Make an array immutable (read-only) (★★☆) \n",
        "(**hint**: flags.writeable)"
      ]
    },
    {
      "cell_type": "code",
      "execution_count": 43,
      "metadata": {
        "colab": {
          "base_uri": "https://localhost:8080/"
        },
        "id": "ht2CS3gkRUHP",
        "outputId": "7eed898e-9f71-41f0-8379-db03840ed883"
      },
      "outputs": [
        {
          "output_type": "stream",
          "name": "stdout",
          "text": [
            "[0 1 2 3 4 5 6 7 8 9]\n"
          ]
        },
        {
          "output_type": "execute_result",
          "data": {
            "text/plain": [
              "array([0, 1, 2, 3, 4, 5, 6, 7, 8, 9])"
            ]
          },
          "metadata": {},
          "execution_count": 43
        }
      ],
      "source": [
        "z=np.arange(0,10)\n",
        "print(z)\n",
        "z.flags.writeable=False\n",
        "# z[2]=100\n",
        "z"
      ]
    },
    {
      "cell_type": "markdown",
      "metadata": {
        "id": "NWVHJKueRUHP"
      },
      "source": [
        "#### 44. Consider a random 10x2 matrix representing cartesian coordinates, convert them to polar coordinates (★★☆) \n",
        "(**hint**: np.sqrt, np.arctan2)"
      ]
    },
    {
      "cell_type": "code",
      "execution_count": 44,
      "metadata": {
        "colab": {
          "base_uri": "https://localhost:8080/"
        },
        "id": "lxR1skNARUHQ",
        "outputId": "1d015b82-84e7-4f13-8af2-1e37f3d0d0e9"
      },
      "outputs": [
        {
          "output_type": "stream",
          "name": "stdout",
          "text": [
            "[1.04661852 0.98790949 0.74934206 1.01654482 0.96254571 0.94886421\n",
            " 0.36837616 0.42192972 0.67592109 0.76240218]\n",
            "[1.14901933 0.57588124 0.50735632 0.66473968 0.41815409 1.51989437\n",
            " 0.26447248 1.34629092 1.1832553  1.09833458]\n"
          ]
        }
      ],
      "source": [
        "# To convert from Cartesian Coordinates (x,y) to Polar Coordinates (r,θ):\n",
        "# r = √ ( x2 + y2 )\n",
        "# θ = tan-1 ( y / x )\n",
        "a=np.random.random((10,2))\n",
        "x,y=a[:,0],a[:,1]\n",
        "r=np.sqrt(x**2 + y**2)\n",
        "Deg=np.arctan2(y,x)\n",
        "print(r)\n",
        "print(Deg)"
      ]
    },
    {
      "cell_type": "markdown",
      "metadata": {
        "id": "gLTVdWLaRUHQ"
      },
      "source": [
        "#### 45. Create random vector of size 10 and replace the maximum value by 0 (★★☆) \n",
        "(**hint**: argmax)"
      ]
    },
    {
      "cell_type": "code",
      "execution_count": 45,
      "metadata": {
        "colab": {
          "base_uri": "https://localhost:8080/"
        },
        "id": "oo8JzSNTRUHQ",
        "outputId": "d8efb1ff-86d6-49a9-cb6f-2d07e87708ba"
      },
      "outputs": [
        {
          "output_type": "stream",
          "name": "stdout",
          "text": [
            "[24 23 10 17 15 26 10 24 23 26]\n"
          ]
        },
        {
          "output_type": "execute_result",
          "data": {
            "text/plain": [
              "array([24, 23, 10, 17, 15,  0, 10, 24, 23, 26])"
            ]
          },
          "metadata": {},
          "execution_count": 45
        }
      ],
      "source": [
        "m=np.random.randint(10,30,10)\n",
        "print(m)\n",
        "m[argmax(m)]=0\n",
        "m"
      ]
    },
    {
      "cell_type": "markdown",
      "metadata": {
        "id": "ZQ4_mSoORUHQ"
      },
      "source": [
        "#### 46. Create a structured array with `x` and `y` coordinates covering the \\[0,1\\]x\\[0,1\\] area (★★☆) \n",
        "(**hint**: np.meshgrid)"
      ]
    },
    {
      "cell_type": "code",
      "execution_count": 46,
      "metadata": {
        "colab": {
          "base_uri": "https://localhost:8080/"
        },
        "id": "0ORaviqrRUHQ",
        "outputId": "916f16f9-17f1-4ec3-91f6-99aa31acaac3"
      },
      "outputs": [
        {
          "output_type": "stream",
          "name": "stdout",
          "text": [
            "[[(0, 0) (0, 0) (0, 0) (0, 0) (1, 0)]\n",
            " [(0, 0) (0, 0) (0, 0) (0, 0) (1, 0)]\n",
            " [(0, 0) (0, 0) (0, 0) (0, 0) (1, 0)]\n",
            " [(0, 0) (0, 0) (0, 0) (0, 0) (1, 0)]\n",
            " [(0, 1) (0, 1) (0, 1) (0, 1) (1, 1)]]\n"
          ]
        }
      ],
      "source": [
        "Z = np.ones((5,5), [('x',int),('y',int)])\n",
        "Z['x'], Z['y'] = np.meshgrid(np.linspace(0,1,5),np.linspace(0,1,5))\n",
        "print(Z)"
      ]
    },
    {
      "cell_type": "markdown",
      "metadata": {
        "id": "M-hOFw57RUHQ"
      },
      "source": [
        "####  47. Given two arrays, X and Y, construct the Cauchy matrix C (Cij =1/(xi - yj)) \n",
        "(**hint**: np.subtract.outer)"
      ]
    },
    {
      "cell_type": "code",
      "execution_count": 47,
      "metadata": {
        "colab": {
          "base_uri": "https://localhost:8080/"
        },
        "id": "m7gJe2a_RUHQ",
        "outputId": "16d5af17-8471-440f-aa64-5e9b958af811"
      },
      "outputs": [
        {
          "output_type": "stream",
          "name": "stdout",
          "text": [
            "[[1 2]\n",
            " [3 4]]\n",
            "[[5 6]\n",
            " [7 8]]\n"
          ]
        },
        {
          "output_type": "execute_result",
          "data": {
            "text/plain": [
              "array([[[[-0.25      , -0.2       ],\n",
              "         [-0.16666667, -0.14285714]],\n",
              "\n",
              "        [[-0.33333333, -0.25      ],\n",
              "         [-0.2       , -0.16666667]]],\n",
              "\n",
              "\n",
              "       [[[-0.5       , -0.33333333],\n",
              "         [-0.25      , -0.2       ]],\n",
              "\n",
              "        [[-1.        , -0.5       ],\n",
              "         [-0.33333333, -0.25      ]]]])"
            ]
          },
          "metadata": {},
          "execution_count": 47
        }
      ],
      "source": [
        "X = np.arange(1,5).reshape(2,2)\n",
        "print(X)\n",
        "Y = np.arange(5,9).reshape(2,2)\n",
        "print(Y)\n",
        "C = (1/(np.subtract.outer(X,Y)))\n",
        "C"
      ]
    },
    {
      "cell_type": "markdown",
      "metadata": {
        "id": "StVbe6rIRUHR"
      },
      "source": [
        "#### 48. Print the minimum and maximum representable value for each numpy scalar type (★★☆) \n",
        "(**hint**: np.iinfo, np.finfo, eps)"
      ]
    },
    {
      "cell_type": "code",
      "execution_count": 48,
      "metadata": {
        "colab": {
          "base_uri": "https://localhost:8080/"
        },
        "id": "dGx2li4dRUHR",
        "outputId": "48e74dd7-f1ba-43cd-f1bd-4431a50c845c"
      },
      "outputs": [
        {
          "output_type": "stream",
          "name": "stdout",
          "text": [
            "-128 127\n",
            "-32768 32767\n",
            "-2147483648 2147483647\n",
            "-9223372036854775808 9223372036854775807\n",
            "-65500.0 65500.0 0.000977\n",
            "-3.4028235e+38 3.4028235e+38 1.1920929e-07\n",
            "-1.7976931348623157e+308 1.7976931348623157e+308 2.220446049250313e-16\n"
          ]
        }
      ],
      "source": [
        "for dtype in [np.int8,np.int16, np.int32, np.int64]:\n",
        "   print(np.iinfo(dtype).min,np.iinfo(dtype).max)\n",
        "for dtype in [np.float16,np.float32, np.float64]:\n",
        "   print(np.finfo(dtype).min,np.finfo(dtype).max,np.finfo(dtype).eps)"
      ]
    },
    {
      "cell_type": "markdown",
      "metadata": {
        "id": "fahHUeASRUHR"
      },
      "source": [
        "#### 49. How to print all the values of an array? (★★☆) \n",
        "(**hint**: np.set\\_printoptions)"
      ]
    },
    {
      "cell_type": "code",
      "execution_count": 49,
      "metadata": {
        "colab": {
          "base_uri": "https://localhost:8080/"
        },
        "id": "5W5HPcT_RUHR",
        "outputId": "7d52a418-7369-421b-c82d-2e4121c3b6bc"
      },
      "outputs": [
        {
          "output_type": "execute_result",
          "data": {
            "text/plain": [
              "array([[[[-0.25, -0.2 ],\n",
              "         [-0.17, -0.14]],\n",
              "\n",
              "        [[-0.33, -0.25],\n",
              "         [-0.2 , -0.17]]],\n",
              "\n",
              "\n",
              "       [[[-0.5 , -0.33],\n",
              "         [-0.25, -0.2 ]],\n",
              "\n",
              "        [[-1.  , -0.5 ],\n",
              "         [-0.33, -0.25]]]])"
            ]
          },
          "metadata": {},
          "execution_count": 49
        }
      ],
      "source": [
        "np.set_printoptions(precision=2,threshold=None)\n",
        "C\n"
      ]
    },
    {
      "cell_type": "markdown",
      "metadata": {
        "id": "UmmCHceZRUHR"
      },
      "source": [
        "#### 50. How to find the closest value (to a given scalar) in a vector? (★★☆) \n",
        "(**hint**: argmin)"
      ]
    },
    {
      "cell_type": "code",
      "execution_count": 50,
      "metadata": {
        "colab": {
          "base_uri": "https://localhost:8080/"
        },
        "id": "5-aUkH9fRUHR",
        "outputId": "e7e9cd40-4116-4aa7-8e4c-e39deb91b0a2"
      },
      "outputs": [
        {
          "output_type": "stream",
          "name": "stdout",
          "text": [
            "52.96416860553171\n",
            "53\n"
          ]
        }
      ],
      "source": [
        "c=np.arange(100)\n",
        "d=np.random.uniform(0,100)\n",
        "print(d)\n",
        "index=(np.abs(c-d)).argmin()\n",
        "print(c[index])"
      ]
    },
    {
      "cell_type": "markdown",
      "metadata": {
        "id": "qfFPMIInRUHS"
      },
      "source": [
        "#### 51. Create a structured array representing a position (x,y) and a color (r,g,b) (★★☆) \n",
        "(**hint**: dtype)"
      ]
    },
    {
      "cell_type": "code",
      "execution_count": 51,
      "metadata": {
        "colab": {
          "base_uri": "https://localhost:8080/"
        },
        "id": "0mwqCjhyRUHS",
        "outputId": "f0604bd0-f481-4ede-986f-3000e8ea0dcf"
      },
      "outputs": [
        {
          "output_type": "stream",
          "name": "stderr",
          "text": [
            "/usr/local/lib/python3.7/dist-packages/numpy/core/numeric.py:204: FutureWarning: Passing (type, 1) or '1type' as a synonym of type is deprecated; in a future version of numpy, it will be understood as (type, (1,)) / '(1,)type'.\n",
            "  a = empty(shape, dtype, order)\n"
          ]
        },
        {
          "output_type": "execute_result",
          "data": {
            "text/plain": [
              "array([((1., 1.), (1., 1., 1.)), ((1., 1.), (1., 1., 1.)),\n",
              "       ((1., 1.), (1., 1., 1.)), ((1., 1.), (1., 1., 1.)),\n",
              "       ((1., 1.), (1., 1., 1.)), ((1., 1.), (1., 1., 1.)),\n",
              "       ((1., 1.), (1., 1., 1.)), ((1., 1.), (1., 1., 1.)),\n",
              "       ((1., 1.), (1., 1., 1.)), ((1., 1.), (1., 1., 1.))],\n",
              "      dtype=[('position', [('x', '<f8'), ('y', '<f8')]), ('color', [('r', '<f8'), ('g', '<f8'), ('b', '<f8')])])"
            ]
          },
          "metadata": {},
          "execution_count": 51
        }
      ],
      "source": [
        "np.ones(10,[('position',[('x',float,1),\n",
        "                            ('y',float,1)]),\n",
        "               ('color',[('r',float,1),\n",
        "                         ('g',float,1),\n",
        "                         ('b',float,1)])])"
      ]
    },
    {
      "cell_type": "markdown",
      "metadata": {
        "id": "N0fCqgr-RUHS"
      },
      "source": [
        "#### 52. Consider a random vector with shape (100,2) representing coordinates, find point by point distances (★★☆) \n",
        "(**hint**: np.atleast\\_2d, T, np.sqrt)"
      ]
    },
    {
      "cell_type": "code",
      "execution_count": 52,
      "metadata": {
        "colab": {
          "base_uri": "https://localhost:8080/"
        },
        "id": "hgYocfWeRUHS",
        "outputId": "f4fc02db-cb78-4d03-9385-b77bd13f4672"
      },
      "outputs": [
        {
          "output_type": "stream",
          "name": "stdout",
          "text": [
            "[[0.   0.78 0.64 ... 0.3  0.41 0.74]\n",
            " [0.78 0.   0.43 ... 0.58 0.64 0.05]\n",
            " [0.64 0.43 0.   ... 0.61 0.75 0.4 ]\n",
            " ...\n",
            " [0.3  0.58 0.61 ... 0.   0.16 0.53]\n",
            " [0.41 0.64 0.75 ... 0.16 0.   0.6 ]\n",
            " [0.74 0.05 0.4  ... 0.53 0.6  0.  ]]\n"
          ]
        }
      ],
      "source": [
        "rv=np.random.random((100,2))\n",
        "x,y=np.atleast_2d(rv[:,0],rv[:,1])\n",
        "d=np.sqrt((x-x.T)**2 +(y-y.T)**2)\n",
        "print(d)"
      ]
    },
    {
      "cell_type": "markdown",
      "metadata": {
        "id": "f5Lpc_9uRUHS"
      },
      "source": [
        "#### 53. How to convert a float (32 bits) array into an integer (32 bits) in place? \n",
        "(**hint**: astype(copy=False))"
      ]
    },
    {
      "cell_type": "code",
      "execution_count": 53,
      "metadata": {
        "colab": {
          "base_uri": "https://localhost:8080/"
        },
        "id": "rAn-AY6eRUHT",
        "outputId": "62a28c6f-e9f5-49d2-fb6a-2ccf196ca58c"
      },
      "outputs": [
        {
          "output_type": "stream",
          "name": "stdout",
          "text": [
            "[0. 1. 2. 3. 4.]\n",
            "[0 1 2 3 4]\n"
          ]
        }
      ],
      "source": [
        "a=np.arange(5, dtype=np.float32)\n",
        "b=a.astype(np.int32,copy=False)\n",
        "print(a)\n",
        "print(b)"
      ]
    },
    {
      "cell_type": "markdown",
      "metadata": {
        "id": "epA3hN2ERUHT"
      },
      "source": [
        "#### 54. How to read the following file? (★★☆) \n",
        "(**hint**: np.genfromtxt)"
      ]
    },
    {
      "cell_type": "markdown",
      "metadata": {
        "id": "vP74VTilRUHT"
      },
      "source": [
        "```\n",
        "1, 2, 3, 4, 5\n",
        "6,  ,  , 7, 8\n",
        " ,  , 9,10,11\n",
        "```"
      ]
    },
    {
      "cell_type": "code",
      "execution_count": 54,
      "metadata": {
        "colab": {
          "base_uri": "https://localhost:8080/"
        },
        "id": "sa3QH6FjRUHT",
        "outputId": "d2b56dab-706f-42bd-84d9-f0b7769feb18"
      },
      "outputs": [
        {
          "output_type": "stream",
          "name": "stdout",
          "text": [
            "[[ 1  2  3  4  5]\n",
            " [ 6 -1 -1  7  8]\n",
            " [-1 -1  9 10 11]]\n"
          ]
        }
      ],
      "source": [
        "from io import StringIO\n",
        "f=StringIO(\"\"\"1, 2, 3, 4, 5\\n\n",
        "                6,  ,  , 7, 8\\n\n",
        "                 ,  , 9,10,11\\n\"\"\")\n",
        "z=np.genfromtxt(f, delimiter=\",\", dtype=int,missing_values=0)\n",
        "print(z)"
      ]
    },
    {
      "cell_type": "markdown",
      "metadata": {
        "id": "tpeIMSA2RUHT"
      },
      "source": [
        "#### 55. What is the equivalent of enumerate for numpy arrays? (★★☆) \n",
        "(**hint**: np.ndenumerate, np.ndindex)"
      ]
    },
    {
      "cell_type": "code",
      "execution_count": 55,
      "metadata": {
        "colab": {
          "base_uri": "https://localhost:8080/"
        },
        "id": "XCDHK2UNRUHT",
        "outputId": "fda0f653-2c9c-46c4-e85a-0e747043bef9"
      },
      "outputs": [
        {
          "output_type": "stream",
          "name": "stdout",
          "text": [
            "(0, 0, 0) 0\n",
            "(0, 0, 1) 1\n",
            "(0, 1, 0) 2\n",
            "(0, 1, 1) 3\n",
            "(1, 0, 0) 4\n",
            "(1, 0, 1) 5\n",
            "(1, 1, 0) 6\n",
            "(1, 1, 1) 7\n",
            "(0, 0, 0) 0\n",
            "(0, 0, 1) 1\n",
            "(0, 1, 0) 2\n",
            "(0, 1, 1) 3\n",
            "(1, 0, 0) 4\n",
            "(1, 0, 1) 5\n",
            "(1, 1, 0) 6\n",
            "(1, 1, 1) 7\n"
          ]
        }
      ],
      "source": [
        "e=np.arange(8).reshape(2,2,2)\n",
        "for index,value in np.ndenumerate(e):\n",
        "    print(index, value)\n",
        "for index in np.ndindex(e.shape):\n",
        "    print(index, e[index])"
      ]
    },
    {
      "cell_type": "markdown",
      "metadata": {
        "id": "0RSIUe67RUHU"
      },
      "source": [
        "#### 56. Generate a generic 2D Gaussian-like array (★★☆) \n",
        "(**hint**: np.meshgrid, np.exp)"
      ]
    },
    {
      "cell_type": "code",
      "execution_count": 56,
      "metadata": {
        "colab": {
          "base_uri": "https://localhost:8080/"
        },
        "id": "ocbS8hP_RUHU",
        "outputId": "462f49c6-0893-4b06-ce73-cd06020d118f"
      },
      "outputs": [
        {
          "output_type": "stream",
          "name": "stdout",
          "text": [
            "[[0.37 0.45 0.52 0.57 0.6  0.6  0.57 0.52 0.45 0.37]\n",
            " [0.45 0.55 0.63 0.7  0.73 0.73 0.7  0.63 0.55 0.45]\n",
            " [0.52 0.63 0.73 0.81 0.85 0.85 0.81 0.73 0.63 0.52]\n",
            " [0.57 0.7  0.81 0.89 0.94 0.94 0.89 0.81 0.7  0.57]\n",
            " [0.6  0.73 0.85 0.94 0.99 0.99 0.94 0.85 0.73 0.6 ]\n",
            " [0.6  0.73 0.85 0.94 0.99 0.99 0.94 0.85 0.73 0.6 ]\n",
            " [0.57 0.7  0.81 0.89 0.94 0.94 0.89 0.81 0.7  0.57]\n",
            " [0.52 0.63 0.73 0.81 0.85 0.85 0.81 0.73 0.63 0.52]\n",
            " [0.45 0.55 0.63 0.7  0.73 0.73 0.7  0.63 0.55 0.45]\n",
            " [0.37 0.45 0.52 0.57 0.6  0.6  0.57 0.52 0.45 0.37]]\n"
          ]
        }
      ],
      "source": [
        "x,y=np.meshgrid(np.linspace(-1,1,10), np.linspace(-1,1,10))\n",
        "d=np.sqrt(x*x+y*y)\n",
        "sigma,mu=1.0, 0.0\n",
        "g=np.exp(-((d-mu)**2/(2.0*sigma**2)))\n",
        "print(g)"
      ]
    },
    {
      "cell_type": "markdown",
      "metadata": {
        "id": "Ow93dn2GRUHU"
      },
      "source": [
        "#### 57. How to randomly place p elements in a 2D array? (★★☆) \n",
        "(**hint**: np.put, np.random.choice)"
      ]
    },
    {
      "cell_type": "code",
      "execution_count": 57,
      "metadata": {
        "colab": {
          "base_uri": "https://localhost:8080/"
        },
        "id": "OWIOo3a4RUHU",
        "outputId": "fab07776-b7ae-4e24-a81a-10ac7eabe1b2"
      },
      "outputs": [
        {
          "output_type": "stream",
          "name": "stdout",
          "text": [
            "[[0. 0. 0. 1.]\n",
            " [0. 0. 0. 0.]\n",
            " [0. 0. 0. 1.]\n",
            " [1. 0. 0. 0.]]\n"
          ]
        }
      ],
      "source": [
        "n=4\n",
        "p=3\n",
        "z=np.zeros((n,n))\n",
        "np.put(z,np.random.choice(arange(n*n), p, replace=False),1)\n",
        "print(z)"
      ]
    },
    {
      "cell_type": "markdown",
      "metadata": {
        "id": "nqwMiqPWRUHU"
      },
      "source": [
        "#### 58. Subtract the mean of each row of a matrix (★★☆) \n",
        "(**hint**: mean(axis=,keepdims=))"
      ]
    },
    {
      "cell_type": "code",
      "execution_count": 58,
      "metadata": {
        "colab": {
          "base_uri": "https://localhost:8080/"
        },
        "id": "kClRNTbYRUHU",
        "outputId": "e61b30d5-140d-42e7-b18c-51da501023f5"
      },
      "outputs": [
        {
          "output_type": "stream",
          "name": "stdout",
          "text": [
            "[[0.32 0.19 0.06 0.62 0.02]\n",
            " [0.79 0.27 0.21 0.58 0.61]\n",
            " [0.5  0.03 0.69 0.39 0.72]\n",
            " [0.68 0.18 0.07 0.17 0.7 ]\n",
            " [0.29 0.3  0.74 0.19 0.04]]\n",
            "[[ 0.08 -0.05 -0.18  0.38 -0.22]\n",
            " [ 0.3  -0.22 -0.28  0.09  0.12]\n",
            " [ 0.04 -0.44  0.23 -0.08  0.25]\n",
            " [ 0.32 -0.18 -0.29 -0.19  0.34]\n",
            " [-0.02 -0.01  0.43 -0.13 -0.27]]\n"
          ]
        }
      ],
      "source": [
        "x=np.random.rand(5,5)\n",
        "print(x)\n",
        "y=x-x.mean(axis=1, keepdims=True)\n",
        "# y=x-x.mean(axis=1).reshape(-1, 1)\n",
        "print(y)"
      ]
    },
    {
      "cell_type": "markdown",
      "metadata": {
        "id": "8gzebBYbRUHV"
      },
      "source": [
        "#### 59. How to sort an array by the nth column? (★★☆) \n",
        "(**hint**: argsort)"
      ]
    },
    {
      "cell_type": "code",
      "execution_count": 59,
      "metadata": {
        "colab": {
          "base_uri": "https://localhost:8080/"
        },
        "id": "9K7-fRC0RUHV",
        "outputId": "1b63f358-f73e-4ef0-f615-8d0dc5b160a6"
      },
      "outputs": [
        {
          "output_type": "stream",
          "name": "stdout",
          "text": [
            "[[9 5 9]\n",
            " [8 0 9]\n",
            " [5 7 5]]\n",
            "[[8 0 9]\n",
            " [9 5 9]\n",
            " [5 7 5]]\n"
          ]
        }
      ],
      "source": [
        "z=np.random.randint(0,10,(3,3))\n",
        "print(z)\n",
        "print(z[z[:,1].argsort()])"
      ]
    },
    {
      "cell_type": "markdown",
      "metadata": {
        "id": "uOxQzrQNRUHV"
      },
      "source": [
        "#### 60. How to tell if a given 2D array has null columns? (★★☆) \n",
        "(**hint**: any, ~)"
      ]
    },
    {
      "cell_type": "code",
      "execution_count": 60,
      "metadata": {
        "colab": {
          "base_uri": "https://localhost:8080/"
        },
        "id": "F97w72hjRUHV",
        "outputId": "f95fbee7-520d-4622-dea1-eebc91a907be"
      },
      "outputs": [
        {
          "output_type": "stream",
          "name": "stdout",
          "text": [
            "[[2 0 0]\n",
            " [0 2 0]\n",
            " [1 0 2]]\n",
            "False\n"
          ]
        }
      ],
      "source": [
        "Z=np.random.randint(0,3,(3,3))\n",
        "print(Z)\n",
        "print((~Z.any(axis=1)).any())"
      ]
    },
    {
      "cell_type": "markdown",
      "metadata": {
        "id": "i1RhIDowRUHV"
      },
      "source": [
        "#### 61. Find the nearest value from a given value in an array (★★☆) \n",
        "(**hint**: np.abs, argmin, flat)"
      ]
    },
    {
      "cell_type": "code",
      "execution_count": 61,
      "metadata": {
        "colab": {
          "base_uri": "https://localhost:8080/"
        },
        "id": "q1C1jTR7RUHV",
        "outputId": "bb9f6f78-83ab-41eb-9a83-6ceae79ea663"
      },
      "outputs": [
        {
          "output_type": "stream",
          "name": "stdout",
          "text": [
            "[[11  2 10]\n",
            " [ 1  1  9]\n",
            " [10  9  4]]\n",
            "[[9 0 8]\n",
            " [1 1 7]\n",
            " [8 7 2]]\n",
            "1\n"
          ]
        },
        {
          "output_type": "execute_result",
          "data": {
            "text/plain": [
              "2"
            ]
          },
          "metadata": {},
          "execution_count": 61
        }
      ],
      "source": [
        "f=np.random.randint(0,15,(3,3))\n",
        "print(f)\n",
        "g=2\n",
        "h=np.abs(g-f)\n",
        "print(h)\n",
        "i=np.argmin(h)\n",
        "print(i)\n",
        "k=f.flat[i]\n",
        "k"
      ]
    },
    {
      "cell_type": "markdown",
      "metadata": {
        "id": "39uJkH_sRUHW"
      },
      "source": [
        "#### 62. Considering two arrays with shape (1,3) and (3,1), how to compute their sum using an iterator? (★★☆) \n",
        "(**hint**: np.nditer)"
      ]
    },
    {
      "cell_type": "code",
      "execution_count": 62,
      "metadata": {
        "colab": {
          "base_uri": "https://localhost:8080/"
        },
        "id": "_2_5qZUlRUHW",
        "outputId": "7a5de780-c3a7-41d0-aac7-ff05f19c35fc"
      },
      "outputs": [
        {
          "output_type": "stream",
          "name": "stdout",
          "text": [
            "[[0]\n",
            " [1]\n",
            " [2]]\n",
            "[[0 1 2]]\n",
            "<numpy.nditer object at 0x7f13bcb44710>\n",
            "[[0 1 2]\n",
            " [1 2 3]\n",
            " [2 3 4]]\n"
          ]
        }
      ],
      "source": [
        "A=np.arange(3).reshape(3,1)\n",
        "print(A)\n",
        "B=np.arange(3).reshape(1,3)\n",
        "print(B)\n",
        "it=np.nditer([A,B,None])\n",
        "print(it)\n",
        "for x,y,z in it:\n",
        "  z[...]=x+y\n",
        "print(it.operands[2])"
      ]
    },
    {
      "cell_type": "markdown",
      "metadata": {
        "id": "3Nqvq9YcRUHW"
      },
      "source": [
        "#### 63. Create an array class that has a name attribute (★★☆) \n",
        "(**hint**: class method)"
      ]
    },
    {
      "cell_type": "code",
      "execution_count": 63,
      "metadata": {
        "colab": {
          "base_uri": "https://localhost:8080/"
        },
        "id": "XsqBHpl4RUHW",
        "outputId": "dc7ede13-f4c2-4e28-ad50-022d81628464"
      },
      "outputs": [
        {
          "output_type": "stream",
          "name": "stdout",
          "text": [
            "<class '__main__.Array'>\n",
            "range_of_10\n"
          ]
        }
      ],
      "source": [
        "class Array(np.ndarray):\n",
        "    def __new__(cls, array, name=\"no name\"):\n",
        "        obj = np.asarray(array).view(cls)\n",
        "        print(type(obj))\n",
        "        obj.name = name\n",
        "        return obj\n",
        "    def __array_finalize__(self, obj):\n",
        "        if obj is None: return\n",
        "        self.info = getattr(obj, 'name', \"no name\")\n",
        "z= Array(np.arange(10), \"range_of_10\")\n",
        "print(z.name)"
      ]
    },
    {
      "cell_type": "markdown",
      "metadata": {
        "id": "h_ckXwpzRUHW"
      },
      "source": [
        "#### 64. Consider a given vector, how to add 1 to each element indexed by a second vector (be careful with repeated indices)? (★★★) \n",
        "(**hint**: np.bincount | np.add.at)"
      ]
    },
    {
      "cell_type": "code",
      "execution_count": 64,
      "metadata": {
        "colab": {
          "base_uri": "https://localhost:8080/"
        },
        "id": "EGZ2o1TCRUHX",
        "outputId": "15b0c96f-a99d-45a6-c5ca-d551ef6669b6"
      },
      "outputs": [
        {
          "output_type": "stream",
          "name": "stdout",
          "text": [
            "[2. 2. 2. 1. 2. 5. 1. 1. 2. 2.]\n",
            "[3. 3. 3. 1. 3. 9. 1. 1. 3. 3.]\n"
          ]
        }
      ],
      "source": [
        "a=np.ones(10)\n",
        "b=np.random.randint(0,len(a),10)\n",
        "a+=np.bincount(b,minlength=len(a))\n",
        "print(a)\n",
        "np.add.at(a,b,1)\n",
        "print(a)"
      ]
    },
    {
      "cell_type": "markdown",
      "metadata": {
        "id": "ns30oieSRUHX"
      },
      "source": [
        "#### 65. How to accumulate elements of a vector (X) to an array (F) based on an index list (I)? (★★★) \n",
        "(**hint**: np.bincount)"
      ]
    },
    {
      "cell_type": "code",
      "execution_count": 65,
      "metadata": {
        "colab": {
          "base_uri": "https://localhost:8080/"
        },
        "id": "i9g6HArJRUHX",
        "outputId": "0ded1cd7-9c01-4522-d0e3-b899f8a36c5b"
      },
      "outputs": [
        {
          "output_type": "execute_result",
          "data": {
            "text/plain": [
              "array([ 0.,  0.,  1.,  0.,  3.,  0.,  5.,  0.,  7.,  0.,  9.,  0., 11.])"
            ]
          },
          "metadata": {},
          "execution_count": 65
        }
      ],
      "source": [
        "a=[2,4,6,8,10,12]\n",
        "b=[1,3,5,7,9,11]\n",
        "np.bincount(a,b)"
      ]
    },
    {
      "cell_type": "markdown",
      "metadata": {
        "id": "TfKKiqjeRUHX"
      },
      "source": [
        "\n",
        "#### 66. Considering a (w,h,3) image of (dtype=ubyte), compute the number of unique colors (★★★) \n",
        "(**hint**: np.unique)"
      ]
    },
    {
      "cell_type": "code",
      "execution_count": 66,
      "metadata": {
        "colab": {
          "base_uri": "https://localhost:8080/"
        },
        "id": "lf4hToYVRUHY",
        "outputId": "81cac7df-a0b7-4735-d132-4a3f3fd44f4f"
      },
      "outputs": [
        {
          "output_type": "stream",
          "name": "stdout",
          "text": [
            "8\n"
          ]
        }
      ],
      "source": [
        "w,h=16,16\n",
        "i=np.random.randint(0,2,(h,w,3)).astype(np.ubyte)\n",
        "f=i[...,0]*(256*256)+i[...,1]*256+i[...,2]\n",
        "n=len(np.unique(f))\n",
        "print(n)"
      ]
    },
    {
      "cell_type": "markdown",
      "metadata": {
        "id": "U_EszSYiRUHY"
      },
      "source": [
        "#### 67. Considering a four dimensions array, how to get sum over the last two axis at once? (★★★) \n",
        "(**hint**: sum(axis=(-2,-1)))"
      ]
    },
    {
      "cell_type": "code",
      "execution_count": 67,
      "metadata": {
        "colab": {
          "base_uri": "https://localhost:8080/"
        },
        "id": "oDaAvG7NRUHY",
        "outputId": "a40089aa-955d-4883-9a17-3e2c26052d2c"
      },
      "outputs": [
        {
          "output_type": "stream",
          "name": "stdout",
          "text": [
            "[[63 48 54 53]\n",
            " [57 69 53 51]\n",
            " [61 48 56 72]]\n",
            "[[63 48 54 53]\n",
            " [57 69 53 51]\n",
            " [61 48 56 72]]\n"
          ]
        }
      ],
      "source": [
        "a = np.random.randint(0,10,(3,4,3,4))\n",
        "sum = a.sum(axis=(-2,-1))\n",
        "print(sum)\n",
        "sum = a.reshape(a.shape[:-2] + (-1,)).sum(axis=-1)\n",
        "print(sum)"
      ]
    },
    {
      "cell_type": "markdown",
      "metadata": {
        "id": "tJ1u3btDRUHY"
      },
      "source": [
        "#### 68. Considering a one-dimensional vector D, how to compute means of subsets of D using a vector S of same size describing subset  indices? (★★★) \n",
        "(**hint**: np.bincount)"
      ]
    },
    {
      "cell_type": "code",
      "execution_count": 68,
      "metadata": {
        "id": "hEKETEU0RUHY",
        "colab": {
          "base_uri": "https://localhost:8080/"
        },
        "outputId": "4c9594c4-6207-4a36-bfdb-d0539bf6c6f1"
      },
      "outputs": [
        {
          "output_type": "stream",
          "name": "stdout",
          "text": [
            "[ nan 0.49 0.65 0.62 0.49 0.47 0.48 0.48 0.4  0.52]\n"
          ]
        },
        {
          "output_type": "stream",
          "name": "stderr",
          "text": [
            "/usr/local/lib/python3.7/dist-packages/ipykernel_launcher.py:5: RuntimeWarning: invalid value encountered in true_divide\n",
            "  \"\"\"\n"
          ]
        },
        {
          "output_type": "stream",
          "name": "stdout",
          "text": [
            "1    0.487434\n",
            "2    0.654432\n",
            "3    0.621634\n",
            "4    0.493451\n",
            "5    0.469651\n",
            "6    0.484798\n",
            "7    0.484326\n",
            "8    0.398132\n",
            "9    0.523808\n",
            "dtype: float64\n"
          ]
        }
      ],
      "source": [
        "D=np.random.uniform(0,1,100)\n",
        "S=np.random.randint(1,10,100)\n",
        "D_sum=np.bincount(S, weights=D)\n",
        "D_count=np.bincount(S)\n",
        "D_mean=D_sum/D_count\n",
        "print(D_mean)\n",
        "import pandas as pd\n",
        "print(pd.Series(D).groupby(S).mean())"
      ]
    },
    {
      "cell_type": "markdown",
      "metadata": {
        "id": "mqyN_IiTRUHZ"
      },
      "source": [
        "#### 69. How to get the diagonal of a dot product? (★★★) \n",
        "(**hint**: np.diag)"
      ]
    },
    {
      "cell_type": "code",
      "execution_count": 69,
      "metadata": {
        "id": "HRI55fTpRUHZ",
        "colab": {
          "base_uri": "https://localhost:8080/"
        },
        "outputId": "602234ca-c325-45c3-f9ba-a8a3e8bbf66d"
      },
      "outputs": [
        {
          "output_type": "execute_result",
          "data": {
            "text/plain": [
              "array([40, 21])"
            ]
          },
          "metadata": {},
          "execution_count": 69
        }
      ],
      "source": [
        "a=np.random.randint(0,7,(2,2))\n",
        "b=np.random.randint(0,10,(2,2))\n",
        "np.diag(np.dot(a,b))"
      ]
    },
    {
      "cell_type": "markdown",
      "metadata": {
        "id": "ckbk1zJtRUHZ"
      },
      "source": [
        "#### 70. Consider the vector \\[1, 2, 3, 4, 5\\], how to build a new vector with 3 consecutive zeros interleaved between each value? (★★★) \n",
        "(**hint**: array\\[::4\\])"
      ]
    },
    {
      "cell_type": "code",
      "execution_count": 70,
      "metadata": {
        "id": "PX8hN4aQRUHZ",
        "colab": {
          "base_uri": "https://localhost:8080/"
        },
        "outputId": "d9322511-62cc-4ef2-f03c-67acb24765fe"
      },
      "outputs": [
        {
          "output_type": "execute_result",
          "data": {
            "text/plain": [
              "array([1., 0., 0., 0., 2., 0., 0., 0., 3., 0., 0., 0., 4., 0., 0., 0., 5.])"
            ]
          },
          "metadata": {},
          "execution_count": 70
        }
      ],
      "source": [
        "v=np.array([1,2,3,4,5])\n",
        "zn=3\n",
        "x=np.zeros(len(v)+(len(v)-1)*zn)\n",
        "x[::zn+1]=v\n",
        "x\n"
      ]
    },
    {
      "cell_type": "markdown",
      "metadata": {
        "id": "-9f531x3RUHZ"
      },
      "source": [
        "#### 71. Consider an array of dimension (5,5,3), how to mulitply it by an array with dimensions (5,5)? (★★★) \n",
        "(**hint**: array\\[:, :, None\\])"
      ]
    },
    {
      "cell_type": "code",
      "execution_count": 71,
      "metadata": {
        "collapsed": true,
        "id": "s_3eZDjkRUHa",
        "colab": {
          "base_uri": "https://localhost:8080/"
        },
        "outputId": "397bee15-f1e6-4538-de55-748d03c48b76"
      },
      "outputs": [
        {
          "output_type": "stream",
          "name": "stdout",
          "text": [
            "[[[24 40 40]\n",
            "  [ 9 54 27]\n",
            "  [49  7 42]\n",
            "  [35 63 63]\n",
            "  [36 72 45]]\n",
            "\n",
            " [[12  2  2]\n",
            "  [49 63 49]\n",
            "  [30 18 24]\n",
            "  [32 64 32]\n",
            "  [40 40 25]]\n",
            "\n",
            " [[24 18  6]\n",
            "  [ 6  1  7]\n",
            "  [ 8 18  4]\n",
            "  [56 49 21]\n",
            "  [20 10  5]]\n",
            "\n",
            " [[15 18  9]\n",
            "  [ 7  7  8]\n",
            "  [ 6  9  6]\n",
            "  [20 32 16]\n",
            "  [56  8 32]]\n",
            "\n",
            " [[63 56 56]\n",
            "  [15 15 30]\n",
            "  [ 2  6 18]\n",
            "  [ 6 10  8]\n",
            "  [48 30  6]]]\n"
          ]
        }
      ],
      "source": [
        "a=np.random.randint(1,10,(5,5,3))\n",
        "b=np.random.randint(1,10,(5,5))\n",
        "print(a*b[:,:,None])"
      ]
    },
    {
      "cell_type": "markdown",
      "metadata": {
        "id": "pxwi3yhERUHa"
      },
      "source": [
        "#### 72. How to swap two rows of an array? (★★★) \n",
        "(**hint**: array\\[\\[\\]\\] = array\\[\\[\\]\\])"
      ]
    },
    {
      "cell_type": "code",
      "execution_count": 72,
      "metadata": {
        "id": "bt1xOKCzRUHa",
        "colab": {
          "base_uri": "https://localhost:8080/"
        },
        "outputId": "9aaa443c-490e-43bf-f46e-824f636c4886"
      },
      "outputs": [
        {
          "output_type": "stream",
          "name": "stdout",
          "text": [
            "[[1 1 2 1]\n",
            " [1 1 3 4]\n",
            " [3 3 2 1]\n",
            " [3 4 4 4]]\n"
          ]
        },
        {
          "output_type": "execute_result",
          "data": {
            "text/plain": [
              "array([[1, 1, 3, 4],\n",
              "       [1, 1, 2, 1],\n",
              "       [3, 3, 2, 1],\n",
              "       [3, 4, 4, 4]])"
            ]
          },
          "metadata": {},
          "execution_count": 72
        }
      ],
      "source": [
        "a=np.random.randint(1,5,(4,4))\n",
        "print(a)\n",
        "a[[0,1]]=a[[1,0]]\n",
        "a"
      ]
    },
    {
      "cell_type": "markdown",
      "metadata": {
        "id": "gmRAQDHdRUHa"
      },
      "source": [
        "#### 73. Consider a set of 10 triplets describing 10 triangles (with shared vertices), find the set of unique line segments composing all the  triangles (★★★) \n",
        "(**hint**: repeat, np.roll, np.sort, view, np.unique)"
      ]
    },
    {
      "cell_type": "code",
      "execution_count": 73,
      "metadata": {
        "id": "ymHC6sOpRUHa",
        "colab": {
          "base_uri": "https://localhost:8080/"
        },
        "outputId": "5a9516d3-d8fd-4601-cfd5-fb577c2cfbc3"
      },
      "outputs": [
        {
          "output_type": "stream",
          "name": "stdout",
          "text": [
            "[( 1,  2) ( 2, 50) ( 2, 87) ( 7, 64) (18, 74) (24, 94) (25, 95) (29, 95)\n",
            " (30, 99) (31, 29) (32, 61) (37, 25) (50,  1) (51, 18) (55, 24) (56, 32)\n",
            " (57,  7) (61, 30) (61, 56) (64, 57) (66, 78) (69,  2) (74, 51) (76, 66)\n",
            " (78, 76) (87, 69) (94, 55) (95, 31) (95, 37) (99, 61)]\n"
          ]
        }
      ],
      "source": [
        "faces=np.random.randint(0,100,(10,3))\n",
        "f=np.roll(faces.repeat(2,axis=1),-1,axis=1)\n",
        "f=f.reshape(len(f)*3,2)\n",
        "F=np.sort(f,axis=1)\n",
        "g=f.view(dtype=[('p0',f.dtype),('p1',f.dtype)] )\n",
        "g=np.unique(g)\n",
        "print(g)"
      ]
    },
    {
      "cell_type": "markdown",
      "metadata": {
        "id": "D-xqQO1URUHb"
      },
      "source": [
        "#### 74. Given an array C that is a bincount, how to produce an array A such that np.bincount(A) == C? (★★★) \n",
        "(**hint**: np.repeat)"
      ]
    },
    {
      "cell_type": "code",
      "execution_count": 74,
      "metadata": {
        "id": "l2HtUu_sRUHb",
        "colab": {
          "base_uri": "https://localhost:8080/"
        },
        "outputId": "6cf7ce2b-f1a8-4f43-fae7-7ffbb2895f1c"
      },
      "outputs": [
        {
          "output_type": "stream",
          "name": "stdout",
          "text": [
            "[ 1  2  3  4  5  7 10]\n"
          ]
        }
      ],
      "source": [
        "a=np.bincount([1,3,5,7,10,2,4])\n",
        "b=np.repeat(np.arange(len(a)),a)\n",
        "print(b)"
      ]
    },
    {
      "cell_type": "markdown",
      "metadata": {
        "id": "W1ESBoNDRUHb"
      },
      "source": [
        "#### 75. How to compute averages using a sliding window over an array? (★★★) \n",
        "(**hint**: np.cumsum)"
      ]
    },
    {
      "cell_type": "code",
      "execution_count": 75,
      "metadata": {
        "id": "rgYuUzRrRUHb",
        "colab": {
          "base_uri": "https://localhost:8080/"
        },
        "outputId": "03bd7d68-14df-456c-d69c-1e3a74c4580f"
      },
      "outputs": [
        {
          "output_type": "execute_result",
          "data": {
            "text/plain": [
              "array([ 1.,  2.,  3.,  4.,  5.,  6.,  7.,  8.,  9., 10., 11., 12., 13.,\n",
              "       14., 15., 16., 17., 18.])"
            ]
          },
          "metadata": {},
          "execution_count": 75
        }
      ],
      "source": [
        "def moving_average(a,n=3) :\n",
        "    ret=np.cumsum(a, dtype=float)\n",
        "    ret[n:]=ret[n:] - ret[:-n]\n",
        "    return ret[n - 1:] / n\n",
        "a=np.arange(20)\n",
        "moving_average(a)"
      ]
    },
    {
      "cell_type": "markdown",
      "metadata": {
        "id": "bhoeYIc3RUHb"
      },
      "source": [
        "#### 76. Consider a one-dimensional array Z, build a two-dimensional array whose first row is (Z\\[0\\],Z\\[1\\],Z\\[2\\]) and each subsequent row is  shifted by 1 (last row should be (Z\\[-3\\],Z\\[-2\\],Z\\[-1\\]) (★★★) \n",
        "(**hint**: from numpy.lib import stride_tricks)"
      ]
    },
    {
      "cell_type": "code",
      "execution_count": 76,
      "metadata": {
        "id": "nd4t5KLeRUHb",
        "colab": {
          "base_uri": "https://localhost:8080/"
        },
        "outputId": "8d785426-c4d4-42d9-9fc1-2849dc42bd50"
      },
      "outputs": [
        {
          "output_type": "stream",
          "name": "stdout",
          "text": [
            "[[0 1 2 3 4]\n",
            " [1 2 3 4 5]\n",
            " [2 3 4 5 6]\n",
            " [3 4 5 6 7]\n",
            " [4 5 6 7 8]]\n"
          ]
        }
      ],
      "source": [
        "from numpy.lib import stride_tricks\n",
        "def rolling(a, window):\n",
        "    shape=(a.size - window + 1, window)\n",
        "    strides=(a.itemsize, a.itemsize)\n",
        "    return stride_tricks.as_strided(a, shape=shape, strides=strides)\n",
        "Z=rolling(np.arange(9), 5)\n",
        "print(Z)"
      ]
    },
    {
      "cell_type": "markdown",
      "metadata": {
        "id": "DWwcgaA5RUHc"
      },
      "source": [
        "#### 77. How to negate a boolean, or to change the sign of a float inplace? (★★★) \n",
        "(**hint**: np.logical_not, np.negative)"
      ]
    },
    {
      "cell_type": "code",
      "execution_count": 78,
      "metadata": {
        "id": "9Mj46SomRUHc",
        "colab": {
          "base_uri": "https://localhost:8080/"
        },
        "outputId": "bd190254-15ff-4e45-d97e-628f0539993a"
      },
      "outputs": [
        {
          "output_type": "stream",
          "name": "stdout",
          "text": [
            "[1 1 1 1 1 1 1 1 1 1 1 1 1 1 1 1 1 1 1 1]\n",
            "[-1 -1 -1 -1 -1 -1 -1 -1 -1 -1 -1 -1 -1 -1 -1 -1 -1 -1 -1 -1]\n"
          ]
        }
      ],
      "source": [
        "a=np.random.randint(0,1,20)\n",
        "print(np.logical_not(a,out=a))\n",
        "print(np.negative(a, out=a))"
      ]
    },
    {
      "cell_type": "markdown",
      "metadata": {
        "id": "FxV3BosXRUHc"
      },
      "source": [
        "#### 78. Consider 2 sets of points P0,P1 describing lines (2d) and a point p, how to compute distance from p to each line i  (P0\\[i\\],P1\\[i\\])? (★★★)"
      ]
    },
    {
      "cell_type": "code",
      "execution_count": 79,
      "metadata": {
        "id": "aelCXFu-RUHc",
        "colab": {
          "base_uri": "https://localhost:8080/"
        },
        "outputId": "0905d33d-d38a-434d-e0ef-35c557ffc679"
      },
      "outputs": [
        {
          "output_type": "execute_result",
          "data": {
            "text/plain": [
              "array([ 2.19, 11.02, 11.47,  7.54,  6.95,  5.59, 10.89, 13.28,  5.19,\n",
              "        3.05])"
            ]
          },
          "metadata": {},
          "execution_count": 79
        }
      ],
      "source": [
        "def distance(P0,P1,p):\n",
        "    t=P1 - P0\n",
        "    l=(t**2).sum(axis=1)\n",
        "    u=-((P0[:,0]-p[...,0])*t[:,0] + (P0[:,1]-p[...,1])*t[:,1]) / l\n",
        "    u=u.reshape(len(u),1)\n",
        "    d=P0+u*t-p\n",
        "    return np.sqrt((d**2).sum(axis=1))\n",
        "P0=np.random.uniform(-10,10,(10,2))\n",
        "P1=np.random.uniform(-10,10,(10,2))\n",
        "p=np.random.uniform(-10,10,( 1,2))\n",
        "distance(P0, P1, p)"
      ]
    },
    {
      "cell_type": "markdown",
      "metadata": {
        "id": "xJnzYYTVRUHd"
      },
      "source": [
        "#### 79. Consider 2 sets of points P0,P1 describing lines (2d) and a set of points P, how to compute distance from each point j (P\\[j\\]) to each line i (P0\\[i\\],P1\\[i\\])? (★★★)"
      ]
    },
    {
      "cell_type": "code",
      "execution_count": 80,
      "metadata": {
        "id": "t9eBBWneRUHd",
        "colab": {
          "base_uri": "https://localhost:8080/"
        },
        "outputId": "29ae1a01-3fd7-4572-e871-e3258c55778e"
      },
      "outputs": [
        {
          "output_type": "execute_result",
          "data": {
            "text/plain": [
              "array([[ 2.19, 11.02, 11.47,  7.54,  6.95,  5.59, 10.89, 13.28,  5.19,\n",
              "         3.05]])"
            ]
          },
          "metadata": {},
          "execution_count": 80
        }
      ],
      "source": [
        "np.array([distance(P0,P1,p_i) for p_i in p])"
      ]
    },
    {
      "cell_type": "markdown",
      "metadata": {
        "id": "w2TMtYVVRUHd"
      },
      "source": [
        "#### 80. Consider an arbitrary array, write a function that extract a subpart with a fixed shape and centered on a given element (pad with a `fill` value when necessary) (★★★) \n",
        "(**hint**: minimum, maximum)"
      ]
    },
    {
      "cell_type": "code",
      "execution_count": 81,
      "metadata": {
        "id": "-GnHiRf5RUHd",
        "colab": {
          "base_uri": "https://localhost:8080/"
        },
        "outputId": "d831e76f-d295-44aa-aec0-b99700cacac3"
      },
      "outputs": [
        {
          "output_type": "stream",
          "name": "stdout",
          "text": [
            "[[1 5 8 1 1 0 6 8 9 2]\n",
            " [6 4 3 0 8 8 6 0 5 3]\n",
            " [9 7 0 7 6 1 0 3 6 4]\n",
            " [1 4 1 8 7 4 8 2 6 6]\n",
            " [1 8 7 8 6 8 0 3 1 4]\n",
            " [1 3 5 9 3 4 0 3 6 0]\n",
            " [7 9 4 6 9 4 4 6 5 5]\n",
            " [2 1 4 7 8 7 7 5 7 3]\n",
            " [4 5 8 0 8 1 9 2 8 4]\n",
            " [6 9 6 8 3 4 7 2 9 2]]\n",
            "[[0 0 0 0 0]\n",
            " [0 1 5 8 1]\n",
            " [0 6 4 3 0]\n",
            " [0 9 7 0 7]\n",
            " [0 1 4 1 8]]\n"
          ]
        },
        {
          "output_type": "stream",
          "name": "stderr",
          "text": [
            "/usr/local/lib/python3.7/dist-packages/ipykernel_launcher.py:19: FutureWarning: Using a non-tuple sequence for multidimensional indexing is deprecated; use `arr[tuple(seq)]` instead of `arr[seq]`. In the future this will be interpreted as an array index, `arr[np.array(seq)]`, which will result either in an error or a different result.\n"
          ]
        }
      ],
      "source": [
        "Z = np.random.randint(0,10,(10,10))\n",
        "shape = (5,5)\n",
        "fill  = 0\n",
        "position = (1,1)\n",
        "R = np.ones(shape, dtype=Z.dtype)*fill\n",
        "P  = np.array(list(position)).astype(int)\n",
        "Rs = np.array(list(R.shape)).astype(int)\n",
        "Zs = np.array(list(Z.shape)).astype(int)\n",
        "R_start = np.zeros((len(shape),)).astype(int)\n",
        "R_stop  = np.array(list(shape)).astype(int)\n",
        "Z_start = (P-Rs//2)\n",
        "Z_stop  = (P+Rs//2)+Rs%2\n",
        "R_start = (R_start - np.minimum(Z_start,0)).tolist()\n",
        "Z_start = (np.maximum(Z_start,0)).tolist()\n",
        "R_stop = np.maximum(R_start, (R_stop - np.maximum(Z_stop-Zs,0))).tolist()\n",
        "Z_stop = (np.minimum(Z_stop,Zs)).tolist()\n",
        "r = [slice(start,stop) for start,stop in zip(R_start,R_stop)]\n",
        "z = [slice(start,stop) for start,stop in zip(Z_start,Z_stop)]\n",
        "R[r] = Z[z]\n",
        "print(Z)\n",
        "print(R)"
      ]
    },
    {
      "cell_type": "markdown",
      "metadata": {
        "id": "yz5mxVwQRUHd"
      },
      "source": [
        "#### 81. Consider an array Z = \\[1,2,3,4,5,6,7,8,9,10,11,12,13,14\\], how to generate an array R = \\[\\[1,2,3,4\\], \\[2,3,4,5\\], \\[3,4,5,6\\], ..., \\[11,12,13,14\\]\\]? (★★★) \n",
        "(**hint**: stride\\_tricks.as\\_strided)"
      ]
    },
    {
      "cell_type": "code",
      "execution_count": 87,
      "metadata": {
        "id": "sLC5GV8BRUHe",
        "colab": {
          "base_uri": "https://localhost:8080/"
        },
        "outputId": "26890b1c-2c8e-4a02-c80e-f6ef383a5e85"
      },
      "outputs": [
        {
          "output_type": "execute_result",
          "data": {
            "text/plain": [
              "array([[ 1,  2,  3,  4],\n",
              "       [ 2,  3,  4,  5],\n",
              "       [ 3,  4,  5,  6],\n",
              "       [ 4,  5,  6,  7],\n",
              "       [ 5,  6,  7,  8],\n",
              "       [ 6,  7,  8,  9],\n",
              "       [ 7,  8,  9, 10],\n",
              "       [ 8,  9, 10, 11],\n",
              "       [ 9, 10, 11, 12],\n",
              "       [10, 11, 12, 13],\n",
              "       [11, 12, 13, 14]], dtype=uint32)"
            ]
          },
          "metadata": {},
          "execution_count": 87
        }
      ],
      "source": [
        "Z=np.arange(1,15,dtype=np.uint32)\n",
        "stride_tricks.as_strided(Z,(11,4),(4,4))"
      ]
    },
    {
      "cell_type": "markdown",
      "metadata": {
        "id": "VGt-kEEpRUHe"
      },
      "source": [
        "#### 82. Compute a matrix rank (★★★) \n",
        "(**hint**: np.linalg.svd) (suggestion: np.linalg.svd)"
      ]
    },
    {
      "cell_type": "code",
      "execution_count": 90,
      "metadata": {
        "id": "HPOdU5XORUHe",
        "colab": {
          "base_uri": "https://localhost:8080/"
        },
        "outputId": "bd5dfc78-87a5-4e54-9929-e128d60d0f9a"
      },
      "outputs": [
        {
          "output_type": "stream",
          "name": "stdout",
          "text": [
            "10\n"
          ]
        }
      ],
      "source": [
        "Z=np.random.uniform(0,1,(10,10))\n",
        "U,S,V=np.linalg.svd(Z)\n",
        "rank=np.sum(S > 1e-10)\n",
        "print(rank)"
      ]
    },
    {
      "cell_type": "markdown",
      "metadata": {
        "id": "Jf5L9pQYRUHe"
      },
      "source": [
        "#### 83. How to find the most frequent value in an array? \n",
        "(**hint**: np.bincount, argmax)"
      ]
    },
    {
      "cell_type": "code",
      "execution_count": 93,
      "metadata": {
        "id": "cfKcJzsiRUHf",
        "colab": {
          "base_uri": "https://localhost:8080/"
        },
        "outputId": "b2db1ad6-918f-4e3b-dca2-e24ba89f86ea"
      },
      "outputs": [
        {
          "output_type": "stream",
          "name": "stdout",
          "text": [
            "[0 1 0 1 1 0 0 0 0 2]\n"
          ]
        },
        {
          "output_type": "execute_result",
          "data": {
            "text/plain": [
              "9"
            ]
          },
          "metadata": {},
          "execution_count": 93
        }
      ],
      "source": [
        "a=np.random.randint(1,10,5)\n",
        "print(np.bincount(a))\n",
        "np.bincount(a).argmax()"
      ]
    },
    {
      "cell_type": "markdown",
      "metadata": {
        "id": "LPj5Y-1LRUHf"
      },
      "source": [
        "#### 84. Extract all the contiguous 3x3 blocks from a random 10x10 matrix (★★★) \n",
        "(**hint**: stride\\_tricks.as\\_strided)"
      ]
    },
    {
      "cell_type": "code",
      "execution_count": 96,
      "metadata": {
        "id": "W6inxWsBRUHf",
        "colab": {
          "base_uri": "https://localhost:8080/"
        },
        "outputId": "356b75e2-2449-4457-883d-0c71bbcb2d02"
      },
      "outputs": [
        {
          "output_type": "stream",
          "name": "stdout",
          "text": [
            "[[[[0 4 0]\n",
            "   [4 3 0]\n",
            "   [2 1 2]]\n",
            "\n",
            "  [[4 0 0]\n",
            "   [3 0 2]\n",
            "   [1 2 1]]\n",
            "\n",
            "  [[0 0 1]\n",
            "   [0 2 3]\n",
            "   [2 1 3]]\n",
            "\n",
            "  [[0 1 2]\n",
            "   [2 3 4]\n",
            "   [1 3 3]]\n",
            "\n",
            "  [[1 2 1]\n",
            "   [3 4 1]\n",
            "   [3 3 3]]\n",
            "\n",
            "  [[2 1 1]\n",
            "   [4 1 0]\n",
            "   [3 3 3]]\n",
            "\n",
            "  [[1 1 4]\n",
            "   [1 0 2]\n",
            "   [3 3 0]]\n",
            "\n",
            "  [[1 4 1]\n",
            "   [0 2 2]\n",
            "   [3 0 0]]]\n",
            "\n",
            "\n",
            " [[[4 3 0]\n",
            "   [2 1 2]\n",
            "   [4 4 4]]\n",
            "\n",
            "  [[3 0 2]\n",
            "   [1 2 1]\n",
            "   [4 4 2]]\n",
            "\n",
            "  [[0 2 3]\n",
            "   [2 1 3]\n",
            "   [4 2 2]]\n",
            "\n",
            "  [[2 3 4]\n",
            "   [1 3 3]\n",
            "   [2 2 2]]\n",
            "\n",
            "  [[3 4 1]\n",
            "   [3 3 3]\n",
            "   [2 2 3]]\n",
            "\n",
            "  [[4 1 0]\n",
            "   [3 3 3]\n",
            "   [2 3 1]]\n",
            "\n",
            "  [[1 0 2]\n",
            "   [3 3 0]\n",
            "   [3 1 0]]\n",
            "\n",
            "  [[0 2 2]\n",
            "   [3 0 0]\n",
            "   [1 0 3]]]\n",
            "\n",
            "\n",
            " [[[2 1 2]\n",
            "   [4 4 4]\n",
            "   [0 3 3]]\n",
            "\n",
            "  [[1 2 1]\n",
            "   [4 4 2]\n",
            "   [3 3 4]]\n",
            "\n",
            "  [[2 1 3]\n",
            "   [4 2 2]\n",
            "   [3 4 4]]\n",
            "\n",
            "  [[1 3 3]\n",
            "   [2 2 2]\n",
            "   [4 4 2]]\n",
            "\n",
            "  [[3 3 3]\n",
            "   [2 2 3]\n",
            "   [4 2 2]]\n",
            "\n",
            "  [[3 3 3]\n",
            "   [2 3 1]\n",
            "   [2 2 3]]\n",
            "\n",
            "  [[3 3 0]\n",
            "   [3 1 0]\n",
            "   [2 3 2]]\n",
            "\n",
            "  [[3 0 0]\n",
            "   [1 0 3]\n",
            "   [3 2 1]]]\n",
            "\n",
            "\n",
            " [[[4 4 4]\n",
            "   [0 3 3]\n",
            "   [1 0 3]]\n",
            "\n",
            "  [[4 4 2]\n",
            "   [3 3 4]\n",
            "   [0 3 4]]\n",
            "\n",
            "  [[4 2 2]\n",
            "   [3 4 4]\n",
            "   [3 4 0]]\n",
            "\n",
            "  [[2 2 2]\n",
            "   [4 4 2]\n",
            "   [4 0 2]]\n",
            "\n",
            "  [[2 2 3]\n",
            "   [4 2 2]\n",
            "   [0 2 0]]\n",
            "\n",
            "  [[2 3 1]\n",
            "   [2 2 3]\n",
            "   [2 0 1]]\n",
            "\n",
            "  [[3 1 0]\n",
            "   [2 3 2]\n",
            "   [0 1 2]]\n",
            "\n",
            "  [[1 0 3]\n",
            "   [3 2 1]\n",
            "   [1 2 3]]]\n",
            "\n",
            "\n",
            " [[[0 3 3]\n",
            "   [1 0 3]\n",
            "   [2 1 2]]\n",
            "\n",
            "  [[3 3 4]\n",
            "   [0 3 4]\n",
            "   [1 2 4]]\n",
            "\n",
            "  [[3 4 4]\n",
            "   [3 4 0]\n",
            "   [2 4 0]]\n",
            "\n",
            "  [[4 4 2]\n",
            "   [4 0 2]\n",
            "   [4 0 4]]\n",
            "\n",
            "  [[4 2 2]\n",
            "   [0 2 0]\n",
            "   [0 4 3]]\n",
            "\n",
            "  [[2 2 3]\n",
            "   [2 0 1]\n",
            "   [4 3 1]]\n",
            "\n",
            "  [[2 3 2]\n",
            "   [0 1 2]\n",
            "   [3 1 3]]\n",
            "\n",
            "  [[3 2 1]\n",
            "   [1 2 3]\n",
            "   [1 3 2]]]\n",
            "\n",
            "\n",
            " [[[1 0 3]\n",
            "   [2 1 2]\n",
            "   [4 2 2]]\n",
            "\n",
            "  [[0 3 4]\n",
            "   [1 2 4]\n",
            "   [2 2 3]]\n",
            "\n",
            "  [[3 4 0]\n",
            "   [2 4 0]\n",
            "   [2 3 3]]\n",
            "\n",
            "  [[4 0 2]\n",
            "   [4 0 4]\n",
            "   [3 3 4]]\n",
            "\n",
            "  [[0 2 0]\n",
            "   [0 4 3]\n",
            "   [3 4 3]]\n",
            "\n",
            "  [[2 0 1]\n",
            "   [4 3 1]\n",
            "   [4 3 2]]\n",
            "\n",
            "  [[0 1 2]\n",
            "   [3 1 3]\n",
            "   [3 2 1]]\n",
            "\n",
            "  [[1 2 3]\n",
            "   [1 3 2]\n",
            "   [2 1 1]]]\n",
            "\n",
            "\n",
            " [[[2 1 2]\n",
            "   [4 2 2]\n",
            "   [3 2 3]]\n",
            "\n",
            "  [[1 2 4]\n",
            "   [2 2 3]\n",
            "   [2 3 0]]\n",
            "\n",
            "  [[2 4 0]\n",
            "   [2 3 3]\n",
            "   [3 0 1]]\n",
            "\n",
            "  [[4 0 4]\n",
            "   [3 3 4]\n",
            "   [0 1 1]]\n",
            "\n",
            "  [[0 4 3]\n",
            "   [3 4 3]\n",
            "   [1 1 3]]\n",
            "\n",
            "  [[4 3 1]\n",
            "   [4 3 2]\n",
            "   [1 3 3]]\n",
            "\n",
            "  [[3 1 3]\n",
            "   [3 2 1]\n",
            "   [3 3 4]]\n",
            "\n",
            "  [[1 3 2]\n",
            "   [2 1 1]\n",
            "   [3 4 3]]]\n",
            "\n",
            "\n",
            " [[[4 2 2]\n",
            "   [3 2 3]\n",
            "   [1 2 4]]\n",
            "\n",
            "  [[2 2 3]\n",
            "   [2 3 0]\n",
            "   [2 4 0]]\n",
            "\n",
            "  [[2 3 3]\n",
            "   [3 0 1]\n",
            "   [4 0 2]]\n",
            "\n",
            "  [[3 3 4]\n",
            "   [0 1 1]\n",
            "   [0 2 1]]\n",
            "\n",
            "  [[3 4 3]\n",
            "   [1 1 3]\n",
            "   [2 1 3]]\n",
            "\n",
            "  [[4 3 2]\n",
            "   [1 3 3]\n",
            "   [1 3 3]]\n",
            "\n",
            "  [[3 2 1]\n",
            "   [3 3 4]\n",
            "   [3 3 2]]\n",
            "\n",
            "  [[2 1 1]\n",
            "   [3 4 3]\n",
            "   [3 2 2]]]]\n"
          ]
        }
      ],
      "source": [
        "X=np.random.randint(0,5,(10,10))\n",
        "n=3\n",
        "i=1+(X.shape[0]-3)\n",
        "j=1+(X.shape[1]-3)\n",
        "C=stride_tricks.as_strided(X, shape=(i, j, n, n), strides=X.strides + X.strides)\n",
        "print(C)"
      ]
    },
    {
      "cell_type": "markdown",
      "metadata": {
        "id": "G5TbGybURUHf"
      },
      "source": [
        "#### 85. Create a 2D array subclass such that Z\\[i,j\\] == Z\\[j,i\\] (★★★) \n",
        "(**hint**: class method)"
      ]
    },
    {
      "cell_type": "code",
      "execution_count": 97,
      "metadata": {
        "id": "SZx0QZiIRUHg",
        "colab": {
          "base_uri": "https://localhost:8080/"
        },
        "outputId": "26db6ee7-5596-490a-82cd-5bff7fa5d6da"
      },
      "outputs": [
        {
          "output_type": "stream",
          "name": "stdout",
          "text": [
            "[[ 2  4  6  8  5]\n",
            " [ 4  0  5 12  4]\n",
            " [ 6  5  2 42  7]\n",
            " [ 8 12 42  9 15]\n",
            " [ 5  4  7 15  6]]\n"
          ]
        }
      ],
      "source": [
        "class Symetric(np.ndarray):\n",
        "    def __setitem__(self, index, value):\n",
        "        i,j = index\n",
        "        super(Symetric, self).__setitem__((i,j), value)\n",
        "        super(Symetric, self).__setitem__((j,i), value)\n",
        "def symetric(Z):\n",
        "    return np.asarray(Z + Z.T - np.diag(Z.diagonal())).view(Symetric)\n",
        "X = symetric(np.random.randint(0,10,(5,5)))\n",
        "X[2,3] = 42\n",
        "print(X)"
      ]
    },
    {
      "cell_type": "markdown",
      "metadata": {
        "id": "14PX-SSxRUHh"
      },
      "source": [
        "#### 86. Consider a set of p matrices wich shape (n,n) and a set of p vectors with shape (n,1). How to compute the sum of of the p matrix products at once? (result has shape (n,1)) (★★★) \n",
        "(**hint**: np.tensordot)"
      ]
    },
    {
      "cell_type": "code",
      "execution_count": 99,
      "metadata": {
        "id": "fPFj_WrQRUHh",
        "colab": {
          "base_uri": "https://localhost:8080/"
        },
        "outputId": "afbff070-6212-40ab-f70e-a70edf83436e"
      },
      "outputs": [
        {
          "output_type": "stream",
          "name": "stdout",
          "text": [
            "[[200.]\n",
            " [200.]\n",
            " [200.]\n",
            " [200.]\n",
            " [200.]\n",
            " [200.]\n",
            " [200.]\n",
            " [200.]\n",
            " [200.]\n",
            " [200.]\n",
            " [200.]\n",
            " [200.]\n",
            " [200.]\n",
            " [200.]\n",
            " [200.]\n",
            " [200.]\n",
            " [200.]\n",
            " [200.]\n",
            " [200.]\n",
            " [200.]]\n"
          ]
        }
      ],
      "source": [
        "p,n= 10, 20\n",
        "M=np.ones((p,n,n))\n",
        "V=np.ones((p,n,1))\n",
        "X=np.tensordot(M, V, axes=[[0, 2], [0, 1]])\n",
        "print(X)"
      ]
    },
    {
      "cell_type": "markdown",
      "metadata": {
        "id": "47_nTDE_RUHh"
      },
      "source": [
        "#### 87. Consider a 16x16 array, how to get the block-sum (block size is 4x4)? (★★★) \n",
        "(**hint**: np.add.reduceat)"
      ]
    },
    {
      "cell_type": "code",
      "execution_count": 103,
      "metadata": {
        "id": "1KJn9NdERUHi",
        "colab": {
          "base_uri": "https://localhost:8080/"
        },
        "outputId": "8fbf3688-99eb-4f66-904f-bd904814e55d"
      },
      "outputs": [
        {
          "output_type": "stream",
          "name": "stdout",
          "text": [
            "[[16. 16. 16. 16.]\n",
            " [16. 16. 16. 16.]\n",
            " [16. 16. 16. 16.]\n",
            " [16. 16. 16. 16.]]\n"
          ]
        }
      ],
      "source": [
        "Z=np.ones((16,16))\n",
        "k=4\n",
        "S=np.add.reduceat(np.add.reduceat(Z, np.arange(0, Z.shape[0], k), axis=0),\n",
        "                                       np.arange(0, Z.shape[1], k), axis=1)\n",
        "print(S)"
      ]
    },
    {
      "cell_type": "markdown",
      "metadata": {
        "id": "4ffW6xcpRUHi"
      },
      "source": [
        "#### 88. How to implement the Game of Life using numpy arrays? (★★★)"
      ]
    },
    {
      "cell_type": "code",
      "execution_count": 104,
      "metadata": {
        "id": "zLMKBch1RUHi",
        "colab": {
          "base_uri": "https://localhost:8080/"
        },
        "outputId": "f29b46d3-e2cc-4488-d643-9c6d7cdcab31"
      },
      "outputs": [
        {
          "output_type": "stream",
          "name": "stdout",
          "text": [
            "[[0 0 0 ... 0 0 0]\n",
            " [0 0 0 ... 0 0 0]\n",
            " [0 0 0 ... 0 0 0]\n",
            " ...\n",
            " [0 0 0 ... 0 0 0]\n",
            " [0 0 0 ... 0 0 0]\n",
            " [0 0 0 ... 0 0 0]]\n"
          ]
        }
      ],
      "source": [
        "def iterate(Z):\n",
        "    N = (Z[0:-2,0:-2] + Z[0:-2,1:-1] + Z[0:-2,2:] +\n",
        "         Z[1:-1,0:-2]                + Z[1:-1,2:] +\n",
        "         Z[2:  ,0:-2] + Z[2:  ,1:-1] + Z[2:  ,2:])\n",
        "    birth = (N==3) & (Z[1:-1,1:-1]==0)\n",
        "    survive = ((N==2) | (N==3)) & (Z[1:-1,1:-1]==1)\n",
        "    Z[...] = 0\n",
        "    Z[1:-1,1:-1][birth | survive] = 1\n",
        "    return Z\n",
        "Z = np.random.randint(0,2,(50,50))\n",
        "for i in range(10): Z = iterate(Z)\n",
        "print(Z)"
      ]
    },
    {
      "cell_type": "markdown",
      "metadata": {
        "id": "F42KMz_6RUHi"
      },
      "source": [
        "#### 89. How to get the n largest values of an array (★★★) \n",
        "(**hint**: np.argsort | np.argpartition)"
      ]
    },
    {
      "cell_type": "code",
      "execution_count": 109,
      "metadata": {
        "id": "-ZwtgBS1RUHi",
        "colab": {
          "base_uri": "https://localhost:8080/"
        },
        "outputId": "eb851cdf-ee83-45b5-fdcc-e2431097ff27"
      },
      "outputs": [
        {
          "output_type": "stream",
          "name": "stdout",
          "text": [
            "[145 146 147 148 149]\n",
            "[146 148 147 149 145]\n"
          ]
        }
      ],
      "source": [
        "Z = np.arange(150)\n",
        "np.random.shuffle(Z)\n",
        "n = 5\n",
        "print (Z[np.argsort(Z)[-n:]])\n",
        "print (Z[np.argpartition(-Z,n)[:n]])"
      ]
    },
    {
      "cell_type": "markdown",
      "metadata": {
        "id": "fefOSF-ZRUHj"
      },
      "source": [
        "#### 90. Given an arbitrary number of vectors, build the cartesian product (every combinations of every item) (★★★) \n",
        "(**hint**: np.indices)"
      ]
    },
    {
      "cell_type": "code",
      "execution_count": 106,
      "metadata": {
        "id": "y5UYf3OiRUHj",
        "scrolled": true,
        "colab": {
          "base_uri": "https://localhost:8080/"
        },
        "outputId": "d5b3f734-a5d0-4156-aad5-2a7797179d98"
      },
      "outputs": [
        {
          "output_type": "stream",
          "name": "stdout",
          "text": [
            "[[1 4 6]\n",
            " [1 4 7]\n",
            " [1 5 6]\n",
            " [1 5 7]\n",
            " [2 4 6]\n",
            " [2 4 7]\n",
            " [2 5 6]\n",
            " [2 5 7]\n",
            " [3 4 6]\n",
            " [3 4 7]\n",
            " [3 5 6]\n",
            " [3 5 7]]\n"
          ]
        }
      ],
      "source": [
        "def cartesian(arrays):\n",
        "    arrays = [np.asarray(a) for a in arrays]\n",
        "    shape = (len(x) for x in arrays)\n",
        "    ix = np.indices(shape, dtype=int)\n",
        "    ix = ix.reshape(len(arrays), -1).T\n",
        "    for n, arr in enumerate(arrays):\n",
        "        ix[:, n] = arrays[n][ix[:, n]]\n",
        "    return ix\n",
        "print (cartesian(([1, 2, 3], [4, 5], [6, 7])))"
      ]
    },
    {
      "cell_type": "markdown",
      "metadata": {
        "id": "IU_9V4KrRUHj"
      },
      "source": [
        "#### 91. How to create a record array from a regular array? (★★★) \n",
        "(**hint**: np.core.records.fromarrays)"
      ]
    },
    {
      "cell_type": "code",
      "execution_count": 111,
      "metadata": {
        "id": "yfAeVHrORUHj",
        "colab": {
          "base_uri": "https://localhost:8080/"
        },
        "outputId": "d1539dd8-af56-484a-8177-e61fff1facc0"
      },
      "outputs": [
        {
          "output_type": "stream",
          "name": "stdout",
          "text": [
            "[(b'hello', 2.5, 3) (b'karthick', 3.6, 2)]\n"
          ]
        }
      ],
      "source": [
        "x=np.array([(\"hello\",2.5,3),\n",
        "            (\"karthick\",3.6,2)])\n",
        "r=np.core.records.fromarrays(x.T,names='col1,col2,col3',formats='S8,f8,i8')\n",
        "print(r)"
      ]
    },
    {
      "cell_type": "markdown",
      "metadata": {
        "id": "ULwEWDIQRUHk"
      },
      "source": [
        "#### 92. Consider a large vector Z, compute Z to the power of 3 using 3 different methods (★★★) \n",
        "(**hint**: np.power, \\*, np.einsum)"
      ]
    },
    {
      "cell_type": "code",
      "execution_count": 112,
      "metadata": {
        "id": "2-oAIkRCRUHk",
        "colab": {
          "base_uri": "https://localhost:8080/"
        },
        "outputId": "ecdb672e-85b2-43da-e259-23c40d417dd2"
      },
      "outputs": [
        {
          "output_type": "stream",
          "name": "stdout",
          "text": [
            "1 loop, best of 5: 3.75 s per loop\n",
            "10 loops, best of 5: 139 ms per loop\n",
            "10 loops, best of 5: 123 ms per loop\n"
          ]
        }
      ],
      "source": [
        "x=np.random.random(int(5e7))\n",
        "%timeit np.power(x,3)\n",
        "%timeit x*x*x\n",
        "%timeit np.einsum('i,i,i->i',x,x,x)"
      ]
    },
    {
      "cell_type": "markdown",
      "metadata": {
        "id": "gQ4OJ5nNRUHk"
      },
      "source": [
        "#### 93. Consider two arrays A and B of shape (8,3) and (2,2). How to find rows of A that contain elements of each row of B regardless of the order of the elements in B? (★★★) \n",
        "(**hint**: np.where)"
      ]
    },
    {
      "cell_type": "code",
      "execution_count": 113,
      "metadata": {
        "id": "rIe8yHqZRUHk",
        "colab": {
          "base_uri": "https://localhost:8080/"
        },
        "outputId": "c028a746-ad33-45f3-b453-12923bcd90c4"
      },
      "outputs": [
        {
          "output_type": "stream",
          "name": "stdout",
          "text": [
            "[1 2 3 4 6 7]\n"
          ]
        }
      ],
      "source": [
        "A=np.random.randint(0,5,(8,3))\n",
        "B=np.random.randint(0,5,(2,2))\n",
        "C=(A[..., np.newaxis, np.newaxis] == B)\n",
        "rows=np.where(C.any((3,1)).all(1))[0]\n",
        "print(rows)"
      ]
    },
    {
      "cell_type": "markdown",
      "metadata": {
        "id": "5ZVkhkknRUHl"
      },
      "source": [
        "#### 94. Considering a 10x3 matrix, extract rows with unequal values (e.g. \\[2,2,3\\]) (★★★)"
      ]
    },
    {
      "cell_type": "code",
      "execution_count": 114,
      "metadata": {
        "id": "B1xsS-xYRUHl",
        "colab": {
          "base_uri": "https://localhost:8080/"
        },
        "outputId": "045a68b4-c8ae-4a45-d923-817cacb1b0ad"
      },
      "outputs": [
        {
          "output_type": "stream",
          "name": "stdout",
          "text": [
            "[[3 3 4]\n",
            " [2 3 4]\n",
            " [1 0 1]\n",
            " [4 2 3]\n",
            " [4 4 4]\n",
            " [0 1 2]\n",
            " [1 0 4]\n",
            " [3 3 2]\n",
            " [3 4 4]\n",
            " [0 0 0]]\n",
            "[[3 3 4]\n",
            " [2 3 4]\n",
            " [1 0 1]\n",
            " [4 2 3]\n",
            " [0 1 2]\n",
            " [1 0 4]\n",
            " [3 3 2]\n",
            " [3 4 4]]\n",
            "[[3 3 4]\n",
            " [2 3 4]\n",
            " [1 0 1]\n",
            " [4 2 3]\n",
            " [0 1 2]\n",
            " [1 0 4]\n",
            " [3 3 2]\n",
            " [3 4 4]]\n"
          ]
        }
      ],
      "source": [
        "M=np.random.randint(0,5,(10,3))\n",
        "print(M)\n",
        "E=np.all(M[:,1:] == M[:,:-1], axis=1)\n",
        "U=M[~E]\n",
        "print(U)\n",
        "U=M[M.max(axis=1) != M.min(axis=1),:]\n",
        "print(U)"
      ]
    },
    {
      "cell_type": "markdown",
      "metadata": {
        "id": "lXdVGhMLRUHl"
      },
      "source": [
        "#### 95. Convert a vector of ints into a matrix binary representation (★★★) \n",
        "(**hint**: np.unpackbits)"
      ]
    },
    {
      "cell_type": "code",
      "execution_count": 115,
      "metadata": {
        "id": "9CaO6s_1RUHl",
        "colab": {
          "base_uri": "https://localhost:8080/"
        },
        "outputId": "5a684b83-7bef-4150-d579-a26ba9d54321"
      },
      "outputs": [
        {
          "output_type": "stream",
          "name": "stdout",
          "text": [
            "[[0 0 0 0 0 0 0 0]\n",
            " [0 0 0 0 0 0 0 1]\n",
            " [0 0 0 0 0 0 1 0]\n",
            " [0 0 0 0 0 0 1 1]\n",
            " [0 0 0 0 1 1 1 1]\n",
            " [0 0 0 1 0 0 0 0]\n",
            " [0 0 1 0 0 0 0 0]\n",
            " [0 1 0 0 0 0 0 0]\n",
            " [1 0 0 0 0 0 0 0]]\n",
            "[[0 0 0 0 0 0 0 0]\n",
            " [0 0 0 0 0 0 0 1]\n",
            " [0 0 0 0 0 0 1 0]\n",
            " [0 0 0 0 0 0 1 1]\n",
            " [0 0 0 0 1 1 1 1]\n",
            " [0 0 0 1 0 0 0 0]\n",
            " [0 0 1 0 0 0 0 0]\n",
            " [0 1 0 0 0 0 0 0]\n",
            " [1 0 0 0 0 0 0 0]]\n"
          ]
        }
      ],
      "source": [
        "I = np.array([0, 1, 2, 3, 15, 16, 32, 64, 128])\n",
        "B = ((I.reshape(-1,1) & (2**np.arange(8))) != 0).astype(int)\n",
        "print(B[:,::-1])\n",
        "I = np.array([0, 1, 2, 3, 15, 16, 32, 64, 128], dtype=np.uint8)\n",
        "print(np.unpackbits(I[:, np.newaxis], axis=1))"
      ]
    },
    {
      "cell_type": "markdown",
      "metadata": {
        "id": "Wrh6tvhQRUHl"
      },
      "source": [
        "#### 96. Given a two dimensional array, how to extract unique rows? (★★★) \n",
        "(**hint**: np.ascontiguousarray)"
      ]
    },
    {
      "cell_type": "code",
      "execution_count": 117,
      "metadata": {
        "id": "XsipH-6QRUHm"
      },
      "outputs": [],
      "source": [
        "Z = np.random.randint(0,21(5,5))\n",
        "T = np.ascontiguousarray(Z).view(np.dtype((np.void, Z.dtype.itemsize * Z.shape[1])))\n",
        "_, idx = np.unique(T, return_index=True)\n",
        "uZ = Z[idx]\n",
        "print(uZ)\n",
        "uZ = np.unique(Z, axis=0)\n",
        "print(uZ)"
      ]
    },
    {
      "cell_type": "markdown",
      "metadata": {
        "id": "tFSED4edRUHm"
      },
      "source": [
        "#### 97. Considering 2 vectors A & B, write the einsum equivalent of inner, outer, sum, and mul function (★★★) \n",
        "(**hint**: np.einsum)"
      ]
    },
    {
      "cell_type": "code",
      "execution_count": 118,
      "metadata": {
        "id": "FY7bDlpCRUHm",
        "colab": {
          "base_uri": "https://localhost:8080/"
        },
        "outputId": "3eb2f550-7e35-4fea-8fd6-394e5b4fbff4"
      },
      "outputs": [
        {
          "output_type": "execute_result",
          "data": {
            "text/plain": [
              "array([[0.1 , 0.16, 0.44, 0.43, 0.74, 0.87, 0.5 , 0.52, 0.71, 0.56],\n",
              "       [0.1 , 0.16, 0.42, 0.42, 0.72, 0.84, 0.49, 0.51, 0.69, 0.54],\n",
              "       [0.11, 0.17, 0.47, 0.47, 0.8 , 0.94, 0.54, 0.56, 0.77, 0.6 ],\n",
              "       [0.01, 0.01, 0.04, 0.04, 0.07, 0.08, 0.04, 0.05, 0.06, 0.05],\n",
              "       [0.03, 0.05, 0.15, 0.15, 0.25, 0.3 , 0.17, 0.18, 0.24, 0.19],\n",
              "       [0.11, 0.18, 0.49, 0.48, 0.83, 0.97, 0.56, 0.58, 0.79, 0.62],\n",
              "       [0.07, 0.11, 0.31, 0.31, 0.52, 0.61, 0.35, 0.37, 0.5 , 0.39],\n",
              "       [0.03, 0.05, 0.13, 0.12, 0.21, 0.25, 0.14, 0.15, 0.2 , 0.16],\n",
              "       [0.01, 0.02, 0.04, 0.04, 0.07, 0.09, 0.05, 0.05, 0.07, 0.05],\n",
              "       [0.05, 0.08, 0.21, 0.21, 0.36, 0.43, 0.25, 0.26, 0.35, 0.27]])"
            ]
          },
          "metadata": {},
          "execution_count": 118
        }
      ],
      "source": [
        "A = np.random.uniform(0,1,10)\n",
        "B = np.random.uniform(0,1,10)\n",
        "np.einsum('i->', A)       \n",
        "np.einsum('i,i->i', A, B) \n",
        "np.einsum('i,i', A, B)    \n",
        "np.einsum('i,j->ij', A, B)"
      ]
    },
    {
      "cell_type": "markdown",
      "metadata": {
        "id": "gc5x1x86RUHm"
      },
      "source": [
        "#### 98. Considering a path described by two vectors (X,Y), how to sample it using equidistant samples (★★★)? \n",
        "(**hint**: np.cumsum, np.interp)"
      ]
    },
    {
      "cell_type": "code",
      "execution_count": 119,
      "metadata": {
        "collapsed": true,
        "id": "R_-tDneYRUHq"
      },
      "outputs": [],
      "source": [
        "phi = np.arange(0, 10*np.pi, 0.1)\n",
        "a = 1\n",
        "x = a*phi*np.cos(phi)\n",
        "y = a*phi*np.sin(phi)\n",
        "dr = (np.diff(x)**2 + np.diff(y)**2)**.5\n",
        "r = np.zeros_like(x)\n",
        "r[1:] = np.cumsum(dr)                \n",
        "r_int = np.linspace(0, r.max(), 200) \n",
        "x_int = np.interp(r_int, r, x)       \n",
        "y_int = np.interp(r_int, r, y)"
      ]
    },
    {
      "cell_type": "markdown",
      "metadata": {
        "id": "-iNwDiTFRUHr"
      },
      "source": [
        "#### 99. Given an integer n and a 2D array X, select from X the rows which can be interpreted as draws from a multinomial distribution with n degrees, i.e., the rows which only contain integers and which sum to n. (★★★) \n",
        "(**hint**: np.logical\\_and.reduce, np.mod)"
      ]
    },
    {
      "cell_type": "code",
      "execution_count": 120,
      "metadata": {
        "id": "9LEY7txqRUHr",
        "colab": {
          "base_uri": "https://localhost:8080/"
        },
        "outputId": "bafe537a-c469-482c-aab4-4dfab3fef8d8"
      },
      "outputs": [
        {
          "output_type": "stream",
          "name": "stdout",
          "text": [
            "[[2. 0. 1. 1.]]\n"
          ]
        }
      ],
      "source": [
        "X=np.asarray([[1.0, 0.0, 3.0, 8.0],\n",
        "                [2.0, 0.0, 1.0, 1.0],\n",
        "                [1.5, 2.5, 1.0, 0.0]])\n",
        "n=4\n",
        "M=np.logical_and.reduce(np.mod(X, 1) == 0, axis=-1)\n",
        "M&=(X.sum(axis=-1) == n)\n",
        "print(X[M])"
      ]
    },
    {
      "cell_type": "markdown",
      "metadata": {
        "id": "wV7Y_FcsRUHr"
      },
      "source": [
        "#### 100. Compute bootstrapped 95% confidence intervals for the mean of a 1D array X (i.e., resample the elements of an array with replacement N times, compute the mean of each sample, and then compute percentiles over the means). (★★★) \n",
        "(**hint**: np.percentile)"
      ]
    },
    {
      "cell_type": "code",
      "execution_count": 121,
      "metadata": {
        "id": "wkeJrP1TRUHr",
        "colab": {
          "base_uri": "https://localhost:8080/"
        },
        "outputId": "ddf8877d-70fd-4b8e-fd7e-e75802460610"
      },
      "outputs": [
        {
          "output_type": "stream",
          "name": "stdout",
          "text": [
            "[-0.2   0.13]\n"
          ]
        }
      ],
      "source": [
        "X=np.random.randn(100) \n",
        "N=1000 \n",
        "idx=np.random.randint(0, X.size, (N, X.size))\n",
        "means=X[idx].mean(axis=1)\n",
        "confint=np.percentile(means, [2.5, 97.5])\n",
        "print(confint)"
      ]
    },
    {
      "cell_type": "code",
      "source": [
        ""
      ],
      "metadata": {
        "id": "EhX3CGM7eLym"
      },
      "execution_count": null,
      "outputs": []
    }
  ],
  "metadata": {
    "colab": {
      "collapsed_sections": [
        "bhoeYIc3RUHb",
        "DWwcgaA5RUHc",
        "FxV3BosXRUHc",
        "xJnzYYTVRUHd",
        "w2TMtYVVRUHd",
        "yz5mxVwQRUHd",
        "VGt-kEEpRUHe",
        "Jf5L9pQYRUHe",
        "LPj5Y-1LRUHf",
        "G5TbGybURUHf",
        "14PX-SSxRUHh",
        "47_nTDE_RUHh",
        "4ffW6xcpRUHi",
        "F42KMz_6RUHi",
        "fefOSF-ZRUHj",
        "IU_9V4KrRUHj",
        "ULwEWDIQRUHk",
        "gQ4OJ5nNRUHk",
        "5ZVkhkknRUHl",
        "lXdVGhMLRUHl",
        "Wrh6tvhQRUHl",
        "tFSED4edRUHm",
        "gc5x1x86RUHm",
        "-iNwDiTFRUHr",
        "wV7Y_FcsRUHr"
      ],
      "name": "Copy of Numpy_tasks.ipynb",
      "provenance": [],
      "include_colab_link": true
    },
    "kernelspec": {
      "display_name": "Python 3",
      "language": "python",
      "name": "python3"
    },
    "language_info": {
      "codemirror_mode": {
        "name": "ipython",
        "version": 3
      },
      "file_extension": ".py",
      "mimetype": "text/x-python",
      "name": "python",
      "nbconvert_exporter": "python",
      "pygments_lexer": "ipython3",
      "version": "3.8.3"
    }
  },
  "nbformat": 4,
  "nbformat_minor": 0
}